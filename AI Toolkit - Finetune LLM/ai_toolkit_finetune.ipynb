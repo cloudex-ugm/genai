{
 "cells": [
  {
   "cell_type": "markdown",
   "metadata": {},
   "source": [
    "# **Tutorial Fine-Tuning Model Bahasa** 🦜\n",
    "\n",
    "## 1. Pendahuluan\n",
    "**Apa itu Fine-Tuning?**\n",
    "Fine-tuning adalah proses menyesuaikan model bahasa yang sudah dilatih sebelumnya (pre-trained) untuk tugas spesifik dengan melatihnya lagi pada dataset yang lebih kecil.\n",
    "\n",
    "**Mengapa DistilBERT?**\n",
    "- Model yang lebih ringan dari BERT tetapi mempertahankan 95% performa\n",
    "- Cocok untuk pemula karena lebih cepat dalam pelatihan\n",
    "- Sudah terbukti baik untuk tugas klasifikasi teks\n",
    "\n",
    "## 2. Persiapan Environment\n",
    "\n",
    "### Instalasi Library\n",
    "\n",
    "**Penjelasan:**\n",
    "\n",
    "- **`transformers`**: Library dari HuggingFace untuk model NLP\n",
    "\n",
    "- **`datasets`**: Untuk memuat dataset\n",
    "\n",
    "- **`torch`**: Framework deep learning PyTorch\n",
    "\n",
    "- **`scikit-learn`**: Untuk metrik evaluasi"
   ]
  },
  {
   "cell_type": "code",
   "execution_count": null,
   "metadata": {},
   "outputs": [],
   "source": [
    "!pip install -U transformers datasets torch\n",
    "!pip3 install torch torchvision torchaudio # untuk Komputer biasa dan MacOS M series processor\n",
    "# !pip3 install torch torchvision torchaudio --index-url https://download.pytorch.org/whl/cu126 # untuk Windows dengan CUDA NVIDIA (sesuaikan dengan versi CUDA)\n",
    "# info tentang versi CUDA dan PyTorch lainnya : https://pytorch.org/get-started/locally/\n",
    "!pip install 'transformers[torch]' accelerate\n",
    "!pip install scikit-learn"
   ]
  },
  {
   "cell_type": "markdown",
   "metadata": {},
   "source": [
    "## 3. Memuat dan Memahami Data\n",
    "### Load Dataset IMDB"
   ]
  },
  {
   "cell_type": "code",
   "execution_count": 2,
   "metadata": {},
   "outputs": [],
   "source": [
    "from datasets import load_dataset"
   ]
  },
  {
   "cell_type": "markdown",
   "metadata": {},
   "source": [
    "### Apa itu Dataset IMDB?\n",
    "\n",
    "- Kumpulan 50,000 review film\n",
    "\n",
    "- Label: 1 (positif) atau 0 (negatif)\n",
    "\n",
    "- Sudah terbagi menjadi train (25,000) dan test (25,000)\n",
    "\n",
    "### Struktur Data:\n",
    "\n",
    "- **`text`**: Review film dalam bentuk teks\n",
    "\n",
    "- **`label`**: Sentimen (0/1)"
   ]
  },
  {
   "cell_type": "code",
   "execution_count": 18,
   "metadata": {},
   "outputs": [
    {
     "name": "stdout",
     "output_type": "stream",
     "text": [
      "{'text': '\"I Am Curious: Yellow\" is a risible and pretentious steaming pile. It doesn\\'t matter what one\\'s political views are because this film can hardly be taken seriously on any level. As for the claim that frontal male nudity is an automatic NC-17, that isn\\'t true. I\\'ve seen R-rated films with male nudity. Granted, they only offer some fleeting views, but where are the R-rated films with gaping vulvas and flapping labia? Nowhere, because they don\\'t exist. The same goes for those crappy cable shows: schlongs swinging in the breeze but not a clitoris in sight. And those pretentious indie movies like The Brown Bunny, in which we\\'re treated to the site of Vincent Gallo\\'s throbbing johnson, but not a trace of pink visible on Chloe Sevigny. Before crying (or implying) \"double-standard\" in matters of nudity, the mentally obtuse should take into account one unavoidably obvious anatomical difference between men and women: there are no genitals on display when actresses appears nude, and the same cannot be said for a man. In fact, you generally won\\'t see female genitals in an American film in anything short of porn or explicit erotica. This alleged double-standard is less a double standard than an admittedly depressing ability to come to terms culturally with the insides of women\\'s bodies.', 'label': 0}\n"
     ]
    }
   ],
   "source": [
    "dataset = load_dataset(\"imdb\")  # Contoh dataset\n",
    "print(dataset[\"train\"][1])  # Lihat contoh data"
   ]
  },
  {
   "cell_type": "markdown",
   "metadata": {},
   "source": [
    "## 4. Persiapan Model & Tokenizer"
   ]
  },
  {
   "cell_type": "markdown",
   "metadata": {},
   "source": [
    "### Load Model\n",
    "**Parameter:**\n",
    "\n",
    "- **`num_labels=2`**: Karena kita punya 2 kelas (positif/negatif)\n",
    "\n",
    "**Arsitektur DistilBERT:**\n",
    "\n",
    "- 6 layer transformer (BERT base punya 12)\n",
    "\n",
    "- Dimensionality 768 (sama seperti BERT base)\n",
    "\n",
    "- Menggunakan knowledge distillation"
   ]
  },
  {
   "cell_type": "code",
   "execution_count": null,
   "metadata": {},
   "outputs": [
    {
     "name": "stderr",
     "output_type": "stream",
     "text": [
      "Some weights of DistilBertForSequenceClassification were not initialized from the model checkpoint at distilbert-base-uncased and are newly initialized: ['classifier.bias', 'classifier.weight', 'pre_classifier.bias', 'pre_classifier.weight']\n",
      "You should probably TRAIN this model on a down-stream task to be able to use it for predictions and inference.\n"
     ]
    }
   ],
   "source": [
    "from transformers import AutoTokenizer, AutoModelForSequenceClassification\n",
    "\n",
    "# Load model and tokenizer\n",
    "model_name = \"distilbert-base-uncased\"\n",
    "tokenizer = AutoTokenizer.from_pretrained(model_name)\n",
    "model = AutoModelForSequenceClassification.from_pretrained(model_name, num_labels=2)"
   ]
  },
  {
   "cell_type": "markdown",
   "metadata": {},
   "source": [
    "### Tokenisasi\n",
    "**Penjelasan:**\n",
    "\n",
    "1. **`AutoTokenizer`**: Memuat tokenizer yang sesuai dengan model DistilBERT\n",
    "\n",
    "2. **`preprocess_function`**:\n",
    "\n",
    "    - **`truncation=True`**: Potong teks jika melebihi max_length\n",
    "\n",
    "    - **`padding=\"max_length\"`**: Tambahkan padding sampai max_length\n",
    "\n",
    "    - **`max_length=256`**: Panjang maksimum teks input\n",
    "\n",
    "    - **`map()`**: Terapkan fungsi ke seluruh dataset\n",
    "\n",
    "    - **`rename_column`**: Ubah nama kolom label untuk kompatibilitas"
   ]
  },
  {
   "cell_type": "code",
   "execution_count": null,
   "metadata": {},
   "outputs": [],
   "source": [
    "# Tokenisasi\n",
    "def preprocess_function(examples):\n",
    "    return tokenizer(examples[\"text\"], truncation=True, padding=\"max_length\", max_length=256)\n",
    "\n",
    "tokenized_dataset = dataset.map(preprocess_function, batched=True)\n",
    "tokenized_datasets = tokenized_dataset.rename_column(\"label\", \"labels\")"
   ]
  },
  {
   "cell_type": "markdown",
   "metadata": {},
   "source": [
    "## 5. Setup Pelatihan\n"
   ]
  },
  {
   "cell_type": "code",
   "execution_count": null,
   "metadata": {},
   "outputs": [],
   "source": [
    "from transformers import TrainingArguments, Trainer, TrainerCallback\n",
    "import numpy as np\n",
    "from sklearn.metrics import accuracy_score"
   ]
  },
  {
   "cell_type": "markdown",
   "metadata": {},
   "source": [
    "### Training Arguments\n",
    "**Penjelasan Parameter:**\n",
    "\n",
    "- **`learning_rate=2e-5`**: Learning rate kecil karena fine-tuning\n",
    "\n",
    "- **`batch_size=16`**: Jumlah sampel per batch\n",
    "\n",
    "- **`num_train_epochs=3`**: Jumlah epoch pelatihan\n",
    "\n",
    "- **`evaluation_strategy=\"epoch\"`**: Evaluasi tiap akhir epoch\n",
    "\n"
   ]
  },
  {
   "cell_type": "code",
   "execution_count": null,
   "metadata": {},
   "outputs": [],
   "source": [
    "# Training Configuration\n",
    "training_args = TrainingArguments(\n",
    "    output_dir=\"./results\",\n",
    "    evaluation_strategy=\"epoch\",\n",
    "    eval_steps=None,\n",
    "    learning_rate=2e-5,\n",
    "    per_device_train_batch_size=16,\n",
    "    per_device_eval_batch_size=16,\n",
    "    num_train_epochs=3,\n",
    "    weight_decay=0.01,\n",
    "    save_strategy=\"epoch\",\n",
    "    load_best_model_at_end=True,\n",
    "    metric_for_best_model=\"accuracy\",\n",
    "    logging_strategy=\"steps\",\n",
    "    logging_steps=100,\n",
    "    report_to=\"none\",  # Disable external logging services\n",
    "    disable_tqdm=False,\n",
    ")"
   ]
  },
  {
   "cell_type": "markdown",
   "metadata": {},
   "source": [
    "### Fungsi Evaluasi"
   ]
  },
  {
   "cell_type": "code",
   "execution_count": null,
   "metadata": {},
   "outputs": [],
   "source": [
    "def compute_metrics(pred):\n",
    "    labels = pred.label_ids\n",
    "    preds = np.argmax(pred.predictions, axis=1)\n",
    "    acc = accuracy_score(labels, preds)\n",
    "    return {\"accuracy\": acc}\n"
   ]
  },
  {
   "cell_type": "markdown",
   "metadata": {},
   "source": [
    "**Cara Kerja:**\n",
    "\n",
    "1. Ambil label sebenarnya\n",
    "\n",
    "2. Ambil prediksi (kelas dengan probability tertinggi)\n",
    "\n",
    "3. Hitung akurasi"
   ]
  },
  {
   "cell_type": "markdown",
   "metadata": {},
   "source": [
    "### Pembuatan Custom Callback\n",
    "\n",
    "Class `FixedMetricsCallback` merupakan custom callback untuk menyimpan metrik pelatihan dan evaluasi selama proses fine-tuning. Callback adalah fungsi yang dipanggil pada tahap-tahap tertentu selama pelatihan model.\n",
    "\n",
    "**Komponen Utama:**\n",
    "\n",
    "1. `metrics_history`: List untuk menyimpan semua metrik pelatihan/evaluasi\n",
    "\n",
    "2. `current_epoch`: Penanda epoch saat ini"
   ]
  },
  {
   "cell_type": "code",
   "execution_count": null,
   "metadata": {},
   "outputs": [],
   "source": [
    "# Membuat class untuk menyimpan metrik\n",
    "class FixedMetricsCallback(TrainerCallback):\n",
    "    def __init__(self):\n",
    "        self.metrics_history = []\n",
    "        self.current_epoch = 0  # Mulai dari 0\n",
    "    \n",
    "    def on_epoch_begin(self, args, state, control, **kwargs):\n",
    "        self.current_epoch += 1\n",
    "    \n",
    "    def on_log(self, args, state, control, logs=None, **kwargs):\n",
    "        if logs:\n",
    "            if \"loss\" in logs:  # Training log\n",
    "                self.metrics_history.append({\n",
    "                    \"type\": \"training\",\n",
    "                    \"step\": state.global_step,\n",
    "                    \"loss\": logs[\"loss\"],\n",
    "                    \"epoch\": self.current_epoch\n",
    "                })\n",
    "            elif \"eval_loss\" in logs:  # Evaluation log\n",
    "                logs.update({\n",
    "                    \"type\": \"evaluation\",\n",
    "                    \"epoch\": self.current_epoch,\n",
    "                    \"step\": state.global_step\n",
    "                })\n",
    "                self.metrics_history.append(logs)"
   ]
  },
  {
   "cell_type": "markdown",
   "metadata": {},
   "source": [
    "### Inisialisasi Trainer"
   ]
  },
  {
   "cell_type": "code",
   "execution_count": null,
   "metadata": {},
   "outputs": [
    {
     "name": "stderr",
     "output_type": "stream",
     "text": [
      "/opt/anaconda3/lib/python3.12/site-packages/transformers/training_args.py:1611: FutureWarning: `evaluation_strategy` is deprecated and will be removed in version 4.46 of 🤗 Transformers. Use `eval_strategy` instead\n",
      "  warnings.warn(\n"
     ]
    }
   ],
   "source": [
    "# Make Trainer\n",
    "metrics_callback = FixedMetricsCallback()\n",
    "trainer = Trainer(\n",
    "    model=model,\n",
    "    args=training_args,\n",
    "    train_dataset=tokenized_datasets[\"train\"],\n",
    "    eval_dataset=tokenized_datasets[\"test\"],\n",
    "    compute_metrics=compute_metrics,\n",
    "    callbacks=[metrics_callback],\n",
    ")"
   ]
  },
  {
   "cell_type": "markdown",
   "metadata": {},
   "source": [
    "## 6. Fine Tuning dan Evaluasi"
   ]
  },
  {
   "cell_type": "markdown",
   "metadata": {},
   "source": [
    "### Mulai Pelatihan"
   ]
  },
  {
   "cell_type": "code",
   "execution_count": null,
   "metadata": {},
   "outputs": [
    {
     "name": "stdout",
     "output_type": "stream",
     "text": [
      "Starting training...\n"
     ]
    },
    {
     "data": {
      "text/html": [
       "\n",
       "    <div>\n",
       "      \n",
       "      <progress value='4689' max='4689' style='width:300px; height:20px; vertical-align: middle;'></progress>\n",
       "      [4689/4689 57:23, Epoch 3/3]\n",
       "    </div>\n",
       "    <table border=\"1\" class=\"dataframe\">\n",
       "  <thead>\n",
       " <tr style=\"text-align: left;\">\n",
       "      <th>Epoch</th>\n",
       "      <th>Training Loss</th>\n",
       "      <th>Validation Loss</th>\n",
       "      <th>Accuracy</th>\n",
       "      <th></th>\n",
       "    </tr>\n",
       "  </thead>\n",
       "  <tbody>\n",
       "    <tr>\n",
       "      <td>1</td>\n",
       "      <td>0.257800</td>\n",
       "      <td>0.257919</td>\n",
       "      <td>0.895920</td>\n",
       "      <td>1563</td>\n",
       "    </tr>\n",
       "    <tr>\n",
       "      <td>2</td>\n",
       "      <td>0.168000</td>\n",
       "      <td>0.280470</td>\n",
       "      <td>0.913320</td>\n",
       "      <td>3126</td>\n",
       "    </tr>\n",
       "    <tr>\n",
       "      <td>3</td>\n",
       "      <td>0.115500</td>\n",
       "      <td>0.334310</td>\n",
       "      <td>0.915440</td>\n",
       "      <td>4689</td>\n",
       "    </tr>\n",
       "  </tbody>\n",
       "</table><p>"
      ],
      "text/plain": [
       "<IPython.core.display.HTML object>"
      ]
     },
     "metadata": {},
     "output_type": "display_data"
    }
   ],
   "source": [
    "# Train and Evaluate\n",
    "print(\"Starting training...\")\n",
    "try:\n",
    "    trainer.train()\n",
    "except Exception as e:\n",
    "    print(f\"Training error: {str(e)}\")\n"
   ]
  },
  {
   "cell_type": "markdown",
   "metadata": {},
   "source": [
    "**Apa yang terjadi:**\n",
    "\n",
    "1. Model akan melalui data training sebanyak 3 epoch\n",
    "\n",
    "2. Setiap epoch akan dievaluasi pada data test\n",
    "\n",
    "3. Model dengan akurasi terbaik akan disimpan"
   ]
  },
  {
   "cell_type": "code",
   "execution_count": null,
   "metadata": {},
   "outputs": [
    {
     "name": "stdout",
     "output_type": "stream",
     "text": [
      "Epoch 1 - Step 100: Train Loss = 0.4721\n",
      "Epoch 1 - Step 200: Train Loss = 0.3186\n",
      "Epoch 1 - Step 300: Train Loss = 0.3452\n",
      "Epoch 1 - Step 400: Train Loss = 0.2967\n",
      "Epoch 1 - Step 500: Train Loss = 0.2814\n",
      "Epoch 1 - Step 600: Train Loss = 0.2872\n",
      "Epoch 1 - Step 700: Train Loss = 0.2851\n",
      "Epoch 1 - Step 800: Train Loss = 0.2702\n",
      "Epoch 1 - Step 900: Train Loss = 0.2386\n",
      "Epoch 1 - Step 1000: Train Loss = 0.2954\n",
      "Epoch 1 - Step 1100: Train Loss = 0.2738\n",
      "Epoch 1 - Step 1200: Train Loss = 0.2810\n",
      "Epoch 1 - Step 1300: Train Loss = 0.2450\n",
      "Epoch 1 - Step 1400: Train Loss = 0.2549\n",
      "Epoch 1 - Step 1500: Train Loss = 0.2578\n",
      "Epoch 1 Evaluation:\n",
      "  Loss: 0.2579\n",
      "  Accuracy: 0.8959\n",
      "Epoch 2 - Step 1600: Train Loss = 0.2207\n",
      "Epoch 2 - Step 1700: Train Loss = 0.1821\n",
      "Epoch 2 - Step 1800: Train Loss = 0.1526\n",
      "Epoch 2 - Step 1900: Train Loss = 0.1983\n",
      "Epoch 2 - Step 2000: Train Loss = 0.1598\n",
      "Epoch 2 - Step 2100: Train Loss = 0.1612\n",
      "Epoch 2 - Step 2200: Train Loss = 0.1889\n",
      "Epoch 2 - Step 2300: Train Loss = 0.1563\n",
      "Epoch 2 - Step 2400: Train Loss = 0.1829\n",
      "Epoch 2 - Step 2500: Train Loss = 0.1681\n",
      "Epoch 2 - Step 2600: Train Loss = 0.1791\n",
      "Epoch 2 - Step 2700: Train Loss = 0.1984\n",
      "Epoch 2 - Step 2800: Train Loss = 0.1711\n",
      "Epoch 2 - Step 2900: Train Loss = 0.1618\n",
      "Epoch 2 - Step 3000: Train Loss = 0.1499\n",
      "Epoch 2 - Step 3100: Train Loss = 0.1680\n",
      "Epoch 2 Evaluation:\n",
      "  Loss: 0.2805\n",
      "  Accuracy: 0.9133\n",
      "Epoch 3 - Step 3200: Train Loss = 0.1190\n",
      "Epoch 3 - Step 3300: Train Loss = 0.0954\n",
      "Epoch 3 - Step 3400: Train Loss = 0.1137\n",
      "Epoch 3 - Step 3500: Train Loss = 0.0912\n",
      "Epoch 3 - Step 3600: Train Loss = 0.1265\n",
      "Epoch 3 - Step 3700: Train Loss = 0.1300\n",
      "Epoch 3 - Step 3800: Train Loss = 0.0814\n",
      "Epoch 3 - Step 3900: Train Loss = 0.1041\n",
      "Epoch 3 - Step 4000: Train Loss = 0.1136\n",
      "Epoch 3 - Step 4100: Train Loss = 0.1041\n",
      "Epoch 3 - Step 4200: Train Loss = 0.1331\n",
      "Epoch 3 - Step 4300: Train Loss = 0.0780\n",
      "Epoch 3 - Step 4400: Train Loss = 0.1105\n",
      "Epoch 3 - Step 4500: Train Loss = 0.1148\n",
      "Epoch 3 - Step 4600: Train Loss = 0.1155\n",
      "Epoch 3 Evaluation:\n",
      "  Loss: 0.3343\n",
      "  Accuracy: 0.9154\n"
     ]
    }
   ],
   "source": [
    "# Print Training History with Validation\n",
    "for entry in metrics_callback.metrics_history:\n",
    "    # epoch = entry['epoch']\n",
    "    if entry[\"type\"] == \"training\":\n",
    "        print(f\"Epoch {entry['epoch']} - Step {entry['step']}: Train Loss = {entry['loss']:.4f}\")\n",
    "        epoch = entry['epoch']\n",
    "    else:\n",
    "        print(f\"Epoch {epoch} Evaluation:\")\n",
    "        print(f\"  Loss: {entry['eval_loss']:.4f}\")\n",
    "        print(f\"  Accuracy: {entry['eval_accuracy']:.4f}\")\n",
    "\n",
    "# metrics_callback.metrics_history"
   ]
  },
  {
   "cell_type": "markdown",
   "metadata": {},
   "source": [
    "### Evaluasi Model"
   ]
  },
  {
   "cell_type": "code",
   "execution_count": 17,
   "metadata": {},
   "outputs": [
    {
     "name": "stdout",
     "output_type": "stream",
     "text": [
      "\n",
      "Running final evaluation...\n"
     ]
    },
    {
     "data": {
      "text/html": [
       "\n",
       "    <div>\n",
       "      \n",
       "      <progress value='3126' max='1563' style='width:300px; height:20px; vertical-align: middle;'></progress>\n",
       "      [1563/1563 20:37:45]\n",
       "    </div>\n",
       "    "
      ],
      "text/plain": [
       "<IPython.core.display.HTML object>"
      ]
     },
     "metadata": {},
     "output_type": "display_data"
    },
    {
     "name": "stdout",
     "output_type": "stream",
     "text": [
      "\n",
      "Final Evaluation Results:\n",
      "Loss: 0.3343\n",
      "Accuracy: 0.9154\n"
     ]
    }
   ],
   "source": [
    "print(\"\\nRunning final evaluation...\")\n",
    "try:\n",
    "    eval_results = trainer.evaluate()\n",
    "    print(\"\\nFinal Evaluation Results:\")\n",
    "    print(f\"Loss: {eval_results['eval_loss']:.4f}\")\n",
    "    print(f\"Accuracy: {eval_results['eval_accuracy']:.4f}\")\n",
    "except Exception as e:\n",
    "    print(f\"Evaluation error: {str(e)}\")"
   ]
  },
  {
   "cell_type": "markdown",
   "metadata": {},
   "source": [
    "# Evaluasi model SEBELUM fine-tuning"
   ]
  },
  {
   "cell_type": "code",
   "execution_count": 19,
   "metadata": {},
   "outputs": [
    {
     "name": "stdout",
     "output_type": "stream",
     "text": [
      "Evaluating model BEFORE fine-tuning...\n"
     ]
    },
    {
     "name": "stderr",
     "output_type": "stream",
     "text": [
      "Some weights of DistilBertForSequenceClassification were not initialized from the model checkpoint at distilbert-base-uncased and are newly initialized: ['classifier.bias', 'classifier.weight', 'pre_classifier.bias', 'pre_classifier.weight']\n",
      "You should probably TRAIN this model on a down-stream task to be able to use it for predictions and inference.\n"
     ]
    },
    {
     "data": {
      "text/html": [
       "\n",
       "    <div>\n",
       "      \n",
       "      <progress value='1563' max='1563' style='width:300px; height:20px; vertical-align: middle;'></progress>\n",
       "      [1563/1563 03:29]\n",
       "    </div>\n",
       "    "
      ],
      "text/plain": [
       "<IPython.core.display.HTML object>"
      ]
     },
     "metadata": {},
     "output_type": "display_data"
    },
    {
     "name": "stdout",
     "output_type": "stream",
     "text": [
      "\n",
      "Evaluation Results BEFORE Fine-Tuning:\n",
      "Loss: 0.6941\n",
      "Accuracy: 0.5014\n",
      "\n",
      "Evaluating model AFTER fine-tuning...\n",
      "\n",
      "Evaluation Results AFTER Fine-Tuning:\n",
      "Loss: 0.3343\n",
      "Accuracy: 0.9154\n",
      "\n",
      "Comparison of Results:\n",
      "Loss BEFORE Fine-Tuning: 0.6941\n",
      "Loss AFTER Fine-Tuning: 0.3343\n",
      "Accuracy BEFORE Fine-Tuning: 0.5014\n",
      "Accuracy AFTER Fine-Tuning: 0.9154\n"
     ]
    }
   ],
   "source": [
    "# Evaluasi model SEBELUM fine-tuning\n",
    "print(\"Evaluating model BEFORE fine-tuning...\")\n",
    "pre_finetune_trainer = Trainer(\n",
    "    model=AutoModelForSequenceClassification.from_pretrained(model_name, num_labels=2),\n",
    "    args=training_args,\n",
    "    eval_dataset=tokenized_datasets[\"test\"],\n",
    "    compute_metrics=compute_metrics,\n",
    ")\n",
    "pre_finetune_results = pre_finetune_trainer.evaluate()\n",
    "print(\"\\nEvaluation Results BEFORE Fine-Tuning:\")\n",
    "print(f\"Loss: {pre_finetune_results['eval_loss']:.4f}\")\n",
    "print(f\"Accuracy: {pre_finetune_results['eval_accuracy']:.4f}\")\n",
    "\n",
    "# Evaluasi model SETELAH fine-tuning\n",
    "print(\"\\nEvaluating model AFTER fine-tuning...\")\n",
    "post_finetune_results = trainer.evaluate()\n",
    "print(\"\\nEvaluation Results AFTER Fine-Tuning:\")\n",
    "print(f\"Loss: {post_finetune_results['eval_loss']:.4f}\")\n",
    "print(f\"Accuracy: {post_finetune_results['eval_accuracy']:.4f}\")\n",
    "\n",
    "# Membandingkan hasil\n",
    "print(\"\\nComparison of Results:\")\n",
    "print(f\"Loss BEFORE Fine-Tuning: {pre_finetune_results['eval_loss']:.4f}\")\n",
    "print(f\"Loss AFTER Fine-Tuning: {post_finetune_results['eval_loss']:.4f}\")\n",
    "print(f\"Accuracy BEFORE Fine-Tuning: {pre_finetune_results['eval_accuracy']:.4f}\")\n",
    "print(f\"Accuracy AFTER Fine-Tuning: {post_finetune_results['eval_accuracy']:.4f}\")"
   ]
  },
  {
   "cell_type": "markdown",
   "metadata": {},
   "source": [
    "## Visualisasi"
   ]
  },
  {
   "cell_type": "code",
   "execution_count": 20,
   "metadata": {},
   "outputs": [
    {
     "name": "stderr",
     "output_type": "stream",
     "text": [
      "Matplotlib is building the font cache; this may take a moment.\n"
     ]
    },
    {
     "data": {
      "image/png": "[encoded data removed]",
      "text/plain": [
       "<Figure size 800x500 with 1 Axes>"
      ]
     },
     "metadata": {},
     "output_type": "display_data"
    }
   ],
   "source": [
    "import matplotlib.pyplot as plt\n",
    "\n",
    "# Data untuk visualisasi\n",
    "labels = ['Loss', 'Accuracy']\n",
    "before_finetuning = [pre_finetune_results['eval_loss'], pre_finetune_results['eval_accuracy']]\n",
    "after_finetuning = [post_finetune_results['eval_loss'], post_finetune_results['eval_accuracy']]\n",
    "\n",
    "x = range(len(labels))  # Posisi untuk sumbu x\n",
    "\n",
    "# Membuat plot\n",
    "plt.figure(figsize=(8, 5))\n",
    "plt.bar(x, before_finetuning, width=0.4, label='Before Fine-Tuning', color='blue', align='center')\n",
    "plt.bar([p + 0.4 for p in x], after_finetuning, width=0.4, label='After Fine-Tuning', color='green', align='center')\n",
    "\n",
    "# Menambahkan label dan judul\n",
    "plt.xlabel('Metrics')\n",
    "plt.ylabel('Values')\n",
    "plt.title('Comparison of Model Performance Before and After Fine-Tuning')\n",
    "plt.xticks([p + 0.2 for p in x], labels)\n",
    "plt.legend()\n",
    "\n",
    "# Menampilkan plot\n",
    "plt.show()"
   ]
  }
 ],
 "metadata": {
  "kernelspec": {
   "display_name": "base",
   "language": "python",
   "name": "python3"
  },
  "language_info": {
   "codemirror_mode": {
    "name": "ipython",
    "version": 3
   },
   "file_extension": ".py",
   "mimetype": "text/x-python",
   "name": "python",
   "nbconvert_exporter": "python",
   "pygments_lexer": "ipython3",
   "version": "3.12.7"
  }
 },
 "nbformat": 4,
 "nbformat_minor": 2
}
