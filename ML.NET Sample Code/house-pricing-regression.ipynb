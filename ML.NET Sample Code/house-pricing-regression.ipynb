{
 "cells": [
  {
   "cell_type": "code",
   "execution_count": 1,
   "id": "d163b61c",
   "metadata": {
    "_cell_guid": "b1076dfc-b9ad-4769-8c92-a6c4dae69d19",
    "_uuid": "8f2839f25d086af736a60e9eeb907d3b93b6e0e5",
    "execution": {
     "iopub.execute_input": "2023-12-07T15:55:41.212935Z",
     "iopub.status.busy": "2023-12-07T15:55:41.212433Z",
     "iopub.status.idle": "2023-12-07T15:55:44.450547Z",
     "shell.execute_reply": "2023-12-07T15:55:44.449006Z"
    },
    "papermill": {
     "duration": 3.266471,
     "end_time": "2023-12-07T15:55:44.453339",
     "exception": false,
     "start_time": "2023-12-07T15:55:41.186868",
     "status": "completed"
    },
    "tags": []
   },
   "outputs": [],
   "source": [
    "# This Python 3 environment comes with many helpful analytics libraries installed\n",
    "# It is defined by the kaggle/python Docker image: https://github.com/kaggle/docker-python\n",
    "# For example, here's several helpful packages to load\n",
    "\n",
    "import numpy as np\n",
    "import pandas as pd\n",
    "import matplotlib.pyplot as plt\n",
    "import seaborn as sns \n",
    "import warnings\n",
    "warnings.filterwarnings(\"ignore\")\n",
    "# Input data files are available in the read-only \"../input/\" directory\n",
    "# For example, running this (by clicking run or pressing Shift+Enter) will list all files under the input directory\n",
    "\n",
    "import os\n",
    "for dirname, _, filenames in os.walk('/kaggle/input'):\n",
    "    for filename in filenames:\n",
    "        print(os.path.join(dirname, filename))\n",
    "\n",
    "# You can write up to 20GB to the current directory (/kaggle/working/) that gets preserved as output when you create a version using \"Save & Run All\" \n",
    "# You can also write temporary files to /kaggle/temp/, but they won't be saved outside of the current session"
   ]
  },
  {
   "cell_type": "markdown",
   "id": "521fb283",
   "metadata": {
    "papermill": {
     "duration": 0.0223,
     "end_time": "2023-12-07T15:55:44.498939",
     "exception": false,
     "start_time": "2023-12-07T15:55:44.476639",
     "status": "completed"
    },
    "tags": []
   },
   "source": [
    "![](https://etimg.etb2bimg.com/photo/78036515.cms)"
   ]
  },
  {
   "cell_type": "markdown",
   "id": "ffdb7cd5",
   "metadata": {
    "papermill": {
     "duration": 0.023316,
     "end_time": "2023-12-07T15:55:44.545352",
     "exception": false,
     "start_time": "2023-12-07T15:55:44.522036",
     "status": "completed"
    },
    "tags": []
   },
   "source": [
    "[](https://etimg.etb2bimg.com/photo/78036515.cms)"
   ]
  },
  {
   "cell_type": "markdown",
   "id": "12453e5a",
   "metadata": {
    "papermill": {
     "duration": 0.022511,
     "end_time": "2023-12-07T15:55:44.591230",
     "exception": false,
     "start_time": "2023-12-07T15:55:44.568719",
     "status": "completed"
    },
    "tags": []
   },
   "source": [
    "**Read the data**"
   ]
  },
  {
   "cell_type": "code",
   "execution_count": 70,
   "id": "38f17069",
   "metadata": {
    "execution": {
     "iopub.execute_input": "2023-12-07T15:55:44.639825Z",
     "iopub.status.busy": "2023-12-07T15:55:44.638995Z",
     "iopub.status.idle": "2023-12-07T15:55:44.664080Z",
     "shell.execute_reply": "2023-12-07T15:55:44.662340Z"
    },
    "papermill": {
     "duration": 0.052172,
     "end_time": "2023-12-07T15:55:44.666704",
     "exception": false,
     "start_time": "2023-12-07T15:55:44.614532",
     "status": "completed"
    },
    "tags": []
   },
   "outputs": [],
   "source": [
    "df = pd.read_csv('./ML.NET Sample Code/Housing.csv') # import data from kaggle input"
   ]
  },
  {
   "cell_type": "markdown",
   "id": "b9d0838d",
   "metadata": {
    "papermill": {
     "duration": 0.022495,
     "end_time": "2023-12-07T15:55:44.712743",
     "exception": false,
     "start_time": "2023-12-07T15:55:44.690248",
     "status": "completed"
    },
    "tags": []
   },
   "source": [
    "**Dispay some rows**"
   ]
  },
  {
   "cell_type": "code",
   "execution_count": 73,
   "id": "42df2149",
   "metadata": {
    "execution": {
     "iopub.execute_input": "2023-12-07T15:55:44.762732Z",
     "iopub.status.busy": "2023-12-07T15:55:44.762252Z",
     "iopub.status.idle": "2023-12-07T15:55:44.795278Z",
     "shell.execute_reply": "2023-12-07T15:55:44.793918Z"
    },
    "papermill": {
     "duration": 0.061997,
     "end_time": "2023-12-07T15:55:44.797901",
     "exception": false,
     "start_time": "2023-12-07T15:55:44.735904",
     "status": "completed"
    },
    "tags": []
   },
   "outputs": [
    {
     "data": {
      "text/html": [
       "<div>\n",
       "<style scoped>\n",
       "    .dataframe tbody tr th:only-of-type {\n",
       "        vertical-align: middle;\n",
       "    }\n",
       "\n",
       "    .dataframe tbody tr th {\n",
       "        vertical-align: top;\n",
       "    }\n",
       "\n",
       "    .dataframe thead th {\n",
       "        text-align: right;\n",
       "    }\n",
       "</style>\n",
       "<table border=\"1\" class=\"dataframe\">\n",
       "  <thead>\n",
       "    <tr style=\"text-align: right;\">\n",
       "      <th></th>\n",
       "      <th>price</th>\n",
       "      <th>area</th>\n",
       "      <th>bedrooms</th>\n",
       "      <th>bathrooms</th>\n",
       "      <th>stories</th>\n",
       "      <th>mainroad</th>\n",
       "      <th>guestroom</th>\n",
       "      <th>basement</th>\n",
       "      <th>hotwaterheating</th>\n",
       "      <th>airconditioning</th>\n",
       "      <th>parking</th>\n",
       "      <th>prefarea</th>\n",
       "      <th>furnishingstatus</th>\n",
       "    </tr>\n",
       "  </thead>\n",
       "  <tbody>\n",
       "    <tr>\n",
       "      <th>0</th>\n",
       "      <td>13300000</td>\n",
       "      <td>7420</td>\n",
       "      <td>4</td>\n",
       "      <td>2</td>\n",
       "      <td>3</td>\n",
       "      <td>yes</td>\n",
       "      <td>no</td>\n",
       "      <td>no</td>\n",
       "      <td>no</td>\n",
       "      <td>yes</td>\n",
       "      <td>2</td>\n",
       "      <td>yes</td>\n",
       "      <td>furnished</td>\n",
       "    </tr>\n",
       "    <tr>\n",
       "      <th>1</th>\n",
       "      <td>12250000</td>\n",
       "      <td>8960</td>\n",
       "      <td>4</td>\n",
       "      <td>4</td>\n",
       "      <td>4</td>\n",
       "      <td>yes</td>\n",
       "      <td>no</td>\n",
       "      <td>no</td>\n",
       "      <td>no</td>\n",
       "      <td>yes</td>\n",
       "      <td>3</td>\n",
       "      <td>no</td>\n",
       "      <td>furnished</td>\n",
       "    </tr>\n",
       "    <tr>\n",
       "      <th>2</th>\n",
       "      <td>12250000</td>\n",
       "      <td>9960</td>\n",
       "      <td>3</td>\n",
       "      <td>2</td>\n",
       "      <td>2</td>\n",
       "      <td>yes</td>\n",
       "      <td>no</td>\n",
       "      <td>yes</td>\n",
       "      <td>no</td>\n",
       "      <td>no</td>\n",
       "      <td>2</td>\n",
       "      <td>yes</td>\n",
       "      <td>semi-furnished</td>\n",
       "    </tr>\n",
       "    <tr>\n",
       "      <th>3</th>\n",
       "      <td>12215000</td>\n",
       "      <td>7500</td>\n",
       "      <td>4</td>\n",
       "      <td>2</td>\n",
       "      <td>2</td>\n",
       "      <td>yes</td>\n",
       "      <td>no</td>\n",
       "      <td>yes</td>\n",
       "      <td>no</td>\n",
       "      <td>yes</td>\n",
       "      <td>3</td>\n",
       "      <td>yes</td>\n",
       "      <td>furnished</td>\n",
       "    </tr>\n",
       "    <tr>\n",
       "      <th>4</th>\n",
       "      <td>11410000</td>\n",
       "      <td>7420</td>\n",
       "      <td>4</td>\n",
       "      <td>1</td>\n",
       "      <td>2</td>\n",
       "      <td>yes</td>\n",
       "      <td>yes</td>\n",
       "      <td>yes</td>\n",
       "      <td>no</td>\n",
       "      <td>yes</td>\n",
       "      <td>2</td>\n",
       "      <td>no</td>\n",
       "      <td>furnished</td>\n",
       "    </tr>\n",
       "  </tbody>\n",
       "</table>\n",
       "</div>"
      ],
      "text/plain": [
       "      price  area  bedrooms  bathrooms  stories mainroad guestroom basement  \\\n",
       "0  13300000  7420         4          2        3      yes        no       no   \n",
       "1  12250000  8960         4          4        4      yes        no       no   \n",
       "2  12250000  9960         3          2        2      yes        no      yes   \n",
       "3  12215000  7500         4          2        2      yes        no      yes   \n",
       "4  11410000  7420         4          1        2      yes       yes      yes   \n",
       "\n",
       "  hotwaterheating airconditioning  parking prefarea furnishingstatus  \n",
       "0              no             yes        2      yes        furnished  \n",
       "1              no             yes        3       no        furnished  \n",
       "2              no              no        2      yes   semi-furnished  \n",
       "3              no             yes        3      yes        furnished  \n",
       "4              no             yes        2       no        furnished  "
      ]
     },
     "execution_count": 73,
     "metadata": {},
     "output_type": "execute_result"
    }
   ],
   "source": [
    "df.head() "
   ]
  },
  {
   "cell_type": "code",
   "execution_count": null,
   "id": "dd7dbcda",
   "metadata": {},
   "outputs": [],
   "source": [
    "# change all \"yes\" value on mainroad, guestroom, basement, hotwaterheating, airconditioning, and prefarea from \"yes\" to 1 and \"no\" to 0\n",
    "bool_cols = ['mainroad', 'guestroom', 'basement', 'hotwaterheating', 'airconditioning', 'prefarea']\n",
    "\n",
    "for col in bool_cols:\n",
    "    df[col] = df[col].map({'yes': 1, 'no': 0})"
   ]
  },
  {
   "cell_type": "markdown",
   "id": "c610e59e",
   "metadata": {
    "papermill": {
     "duration": 0.025827,
     "end_time": "2023-12-07T15:55:44.847051",
     "exception": false,
     "start_time": "2023-12-07T15:55:44.821224",
     "status": "completed"
    },
    "tags": []
   },
   "source": [
    "**view the number of rows and columns in the data**"
   ]
  },
  {
   "cell_type": "code",
   "execution_count": 5,
   "id": "146a9486",
   "metadata": {
    "execution": {
     "iopub.execute_input": "2023-12-07T15:55:44.964277Z",
     "iopub.status.busy": "2023-12-07T15:55:44.963358Z",
     "iopub.status.idle": "2023-12-07T15:55:44.971134Z",
     "shell.execute_reply": "2023-12-07T15:55:44.969571Z"
    },
    "papermill": {
     "duration": 0.103219,
     "end_time": "2023-12-07T15:55:44.974799",
     "exception": false,
     "start_time": "2023-12-07T15:55:44.871580",
     "status": "completed"
    },
    "tags": []
   },
   "outputs": [
    {
     "data": {
      "text/plain": [
       "(545, 13)"
      ]
     },
     "execution_count": 5,
     "metadata": {},
     "output_type": "execute_result"
    }
   ],
   "source": [
    "df.shape # getting the count of rows and columns in the dataframe"
   ]
  },
  {
   "cell_type": "markdown",
   "id": "1b7f0991",
   "metadata": {
    "papermill": {
     "duration": 0.025206,
     "end_time": "2023-12-07T15:55:45.024275",
     "exception": false,
     "start_time": "2023-12-07T15:55:44.999069",
     "status": "completed"
    },
    "tags": []
   },
   "source": [
    "**view summary statistics**"
   ]
  },
  {
   "cell_type": "code",
   "execution_count": 6,
   "id": "18b58115",
   "metadata": {
    "execution": {
     "iopub.execute_input": "2023-12-07T15:55:45.076104Z",
     "iopub.status.busy": "2023-12-07T15:55:45.075282Z",
     "iopub.status.idle": "2023-12-07T15:55:45.115208Z",
     "shell.execute_reply": "2023-12-07T15:55:45.113896Z"
    },
    "papermill": {
     "duration": 0.069558,
     "end_time": "2023-12-07T15:55:45.118204",
     "exception": false,
     "start_time": "2023-12-07T15:55:45.048646",
     "status": "completed"
    },
    "tags": []
   },
   "outputs": [
    {
     "data": {
      "text/html": [
       "<div>\n",
       "<style scoped>\n",
       "    .dataframe tbody tr th:only-of-type {\n",
       "        vertical-align: middle;\n",
       "    }\n",
       "\n",
       "    .dataframe tbody tr th {\n",
       "        vertical-align: top;\n",
       "    }\n",
       "\n",
       "    .dataframe thead th {\n",
       "        text-align: right;\n",
       "    }\n",
       "</style>\n",
       "<table border=\"1\" class=\"dataframe\">\n",
       "  <thead>\n",
       "    <tr style=\"text-align: right;\">\n",
       "      <th></th>\n",
       "      <th>price</th>\n",
       "      <th>area</th>\n",
       "      <th>bedrooms</th>\n",
       "      <th>bathrooms</th>\n",
       "      <th>stories</th>\n",
       "      <th>parking</th>\n",
       "    </tr>\n",
       "  </thead>\n",
       "  <tbody>\n",
       "    <tr>\n",
       "      <th>count</th>\n",
       "      <td>5.450000e+02</td>\n",
       "      <td>545.000000</td>\n",
       "      <td>545.000000</td>\n",
       "      <td>545.000000</td>\n",
       "      <td>545.000000</td>\n",
       "      <td>545.000000</td>\n",
       "    </tr>\n",
       "    <tr>\n",
       "      <th>mean</th>\n",
       "      <td>4.766729e+06</td>\n",
       "      <td>5150.541284</td>\n",
       "      <td>2.965138</td>\n",
       "      <td>1.286239</td>\n",
       "      <td>1.805505</td>\n",
       "      <td>0.693578</td>\n",
       "    </tr>\n",
       "    <tr>\n",
       "      <th>std</th>\n",
       "      <td>1.870440e+06</td>\n",
       "      <td>2170.141023</td>\n",
       "      <td>0.738064</td>\n",
       "      <td>0.502470</td>\n",
       "      <td>0.867492</td>\n",
       "      <td>0.861586</td>\n",
       "    </tr>\n",
       "    <tr>\n",
       "      <th>min</th>\n",
       "      <td>1.750000e+06</td>\n",
       "      <td>1650.000000</td>\n",
       "      <td>1.000000</td>\n",
       "      <td>1.000000</td>\n",
       "      <td>1.000000</td>\n",
       "      <td>0.000000</td>\n",
       "    </tr>\n",
       "    <tr>\n",
       "      <th>25%</th>\n",
       "      <td>3.430000e+06</td>\n",
       "      <td>3600.000000</td>\n",
       "      <td>2.000000</td>\n",
       "      <td>1.000000</td>\n",
       "      <td>1.000000</td>\n",
       "      <td>0.000000</td>\n",
       "    </tr>\n",
       "    <tr>\n",
       "      <th>50%</th>\n",
       "      <td>4.340000e+06</td>\n",
       "      <td>4600.000000</td>\n",
       "      <td>3.000000</td>\n",
       "      <td>1.000000</td>\n",
       "      <td>2.000000</td>\n",
       "      <td>0.000000</td>\n",
       "    </tr>\n",
       "    <tr>\n",
       "      <th>75%</th>\n",
       "      <td>5.740000e+06</td>\n",
       "      <td>6360.000000</td>\n",
       "      <td>3.000000</td>\n",
       "      <td>2.000000</td>\n",
       "      <td>2.000000</td>\n",
       "      <td>1.000000</td>\n",
       "    </tr>\n",
       "    <tr>\n",
       "      <th>max</th>\n",
       "      <td>1.330000e+07</td>\n",
       "      <td>16200.000000</td>\n",
       "      <td>6.000000</td>\n",
       "      <td>4.000000</td>\n",
       "      <td>4.000000</td>\n",
       "      <td>3.000000</td>\n",
       "    </tr>\n",
       "  </tbody>\n",
       "</table>\n",
       "</div>"
      ],
      "text/plain": [
       "              price          area    bedrooms   bathrooms     stories  \\\n",
       "count  5.450000e+02    545.000000  545.000000  545.000000  545.000000   \n",
       "mean   4.766729e+06   5150.541284    2.965138    1.286239    1.805505   \n",
       "std    1.870440e+06   2170.141023    0.738064    0.502470    0.867492   \n",
       "min    1.750000e+06   1650.000000    1.000000    1.000000    1.000000   \n",
       "25%    3.430000e+06   3600.000000    2.000000    1.000000    1.000000   \n",
       "50%    4.340000e+06   4600.000000    3.000000    1.000000    2.000000   \n",
       "75%    5.740000e+06   6360.000000    3.000000    2.000000    2.000000   \n",
       "max    1.330000e+07  16200.000000    6.000000    4.000000    4.000000   \n",
       "\n",
       "          parking  \n",
       "count  545.000000  \n",
       "mean     0.693578  \n",
       "std      0.861586  \n",
       "min      0.000000  \n",
       "25%      0.000000  \n",
       "50%      0.000000  \n",
       "75%      1.000000  \n",
       "max      3.000000  "
      ]
     },
     "execution_count": 6,
     "metadata": {},
     "output_type": "execute_result"
    }
   ],
   "source": [
    "df.describe()"
   ]
  },
  {
   "cell_type": "markdown",
   "id": "c457a72e",
   "metadata": {
    "papermill": {
     "duration": 0.024668,
     "end_time": "2023-12-07T15:55:45.167823",
     "exception": false,
     "start_time": "2023-12-07T15:55:45.143155",
     "status": "completed"
    },
    "tags": []
   },
   "source": [
    "**view summary statistics**"
   ]
  },
  {
   "cell_type": "code",
   "execution_count": 7,
   "id": "636b9986",
   "metadata": {
    "execution": {
     "iopub.execute_input": "2023-12-07T15:55:45.218669Z",
     "iopub.status.busy": "2023-12-07T15:55:45.217814Z",
     "iopub.status.idle": "2023-12-07T15:55:45.248551Z",
     "shell.execute_reply": "2023-12-07T15:55:45.247264Z"
    },
    "papermill": {
     "duration": 0.059831,
     "end_time": "2023-12-07T15:55:45.251578",
     "exception": false,
     "start_time": "2023-12-07T15:55:45.191747",
     "status": "completed"
    },
    "tags": []
   },
   "outputs": [
    {
     "name": "stdout",
     "output_type": "stream",
     "text": [
      "<class 'pandas.core.frame.DataFrame'>\n",
      "RangeIndex: 545 entries, 0 to 544\n",
      "Data columns (total 13 columns):\n",
      " #   Column            Non-Null Count  Dtype \n",
      "---  ------            --------------  ----- \n",
      " 0   price             545 non-null    int64 \n",
      " 1   area              545 non-null    int64 \n",
      " 2   bedrooms          545 non-null    int64 \n",
      " 3   bathrooms         545 non-null    int64 \n",
      " 4   stories           545 non-null    int64 \n",
      " 5   mainroad          545 non-null    object\n",
      " 6   guestroom         545 non-null    object\n",
      " 7   basement          545 non-null    object\n",
      " 8   hotwaterheating   545 non-null    object\n",
      " 9   airconditioning   545 non-null    object\n",
      " 10  parking           545 non-null    int64 \n",
      " 11  prefarea          545 non-null    object\n",
      " 12  furnishingstatus  545 non-null    object\n",
      "dtypes: int64(6), object(7)\n",
      "memory usage: 55.5+ KB\n"
     ]
    }
   ],
   "source": [
    "df.info()"
   ]
  },
  {
   "cell_type": "markdown",
   "id": "74a76255",
   "metadata": {
    "papermill": {
     "duration": 0.024197,
     "end_time": "2023-12-07T15:55:45.301612",
     "exception": false,
     "start_time": "2023-12-07T15:55:45.277415",
     "status": "completed"
    },
    "tags": []
   },
   "source": [
    "**Look if there are any duplicate rows in the dataset**"
   ]
  },
  {
   "cell_type": "code",
   "execution_count": 8,
   "id": "5c5d07a6",
   "metadata": {
    "execution": {
     "iopub.execute_input": "2023-12-07T15:55:45.354870Z",
     "iopub.status.busy": "2023-12-07T15:55:45.354129Z",
     "iopub.status.idle": "2023-12-07T15:55:45.374514Z",
     "shell.execute_reply": "2023-12-07T15:55:45.373271Z"
    },
    "papermill": {
     "duration": 0.051225,
     "end_time": "2023-12-07T15:55:45.377098",
     "exception": false,
     "start_time": "2023-12-07T15:55:45.325873",
     "status": "completed"
    },
    "tags": []
   },
   "outputs": [
    {
     "data": {
      "text/html": [
       "<div>\n",
       "<style scoped>\n",
       "    .dataframe tbody tr th:only-of-type {\n",
       "        vertical-align: middle;\n",
       "    }\n",
       "\n",
       "    .dataframe tbody tr th {\n",
       "        vertical-align: top;\n",
       "    }\n",
       "\n",
       "    .dataframe thead th {\n",
       "        text-align: right;\n",
       "    }\n",
       "</style>\n",
       "<table border=\"1\" class=\"dataframe\">\n",
       "  <thead>\n",
       "    <tr style=\"text-align: right;\">\n",
       "      <th></th>\n",
       "      <th>price</th>\n",
       "      <th>area</th>\n",
       "      <th>bedrooms</th>\n",
       "      <th>bathrooms</th>\n",
       "      <th>stories</th>\n",
       "      <th>mainroad</th>\n",
       "      <th>guestroom</th>\n",
       "      <th>basement</th>\n",
       "      <th>hotwaterheating</th>\n",
       "      <th>airconditioning</th>\n",
       "      <th>parking</th>\n",
       "      <th>prefarea</th>\n",
       "      <th>furnishingstatus</th>\n",
       "    </tr>\n",
       "  </thead>\n",
       "  <tbody>\n",
       "  </tbody>\n",
       "</table>\n",
       "</div>"
      ],
      "text/plain": [
       "Empty DataFrame\n",
       "Columns: [price, area, bedrooms, bathrooms, stories, mainroad, guestroom, basement, hotwaterheating, airconditioning, parking, prefarea, furnishingstatus]\n",
       "Index: []"
      ]
     },
     "execution_count": 8,
     "metadata": {},
     "output_type": "execute_result"
    }
   ],
   "source": [
    "df.loc[df.duplicated()]"
   ]
  },
  {
   "cell_type": "markdown",
   "id": "0e8c21d4",
   "metadata": {
    "papermill": {
     "duration": 0.024493,
     "end_time": "2023-12-07T15:55:45.427043",
     "exception": false,
     "start_time": "2023-12-07T15:55:45.402550",
     "status": "completed"
    },
    "tags": []
   },
   "source": [
    "No duplicate row"
   ]
  },
  {
   "cell_type": "markdown",
   "id": "5ffe72ad",
   "metadata": {
    "papermill": {
     "duration": 0.025126,
     "end_time": "2023-12-07T15:55:45.477057",
     "exception": false,
     "start_time": "2023-12-07T15:55:45.451931",
     "status": "completed"
    },
    "tags": []
   },
   "source": [
    "**Get the name of the columns**"
   ]
  },
  {
   "cell_type": "code",
   "execution_count": 9,
   "id": "febef116",
   "metadata": {
    "execution": {
     "iopub.execute_input": "2023-12-07T15:55:45.532353Z",
     "iopub.status.busy": "2023-12-07T15:55:45.531851Z",
     "iopub.status.idle": "2023-12-07T15:55:45.539592Z",
     "shell.execute_reply": "2023-12-07T15:55:45.538620Z"
    },
    "papermill": {
     "duration": 0.039806,
     "end_time": "2023-12-07T15:55:45.542515",
     "exception": false,
     "start_time": "2023-12-07T15:55:45.502709",
     "status": "completed"
    },
    "tags": []
   },
   "outputs": [
    {
     "data": {
      "text/plain": [
       "Index(['price', 'area', 'bedrooms', 'bathrooms', 'stories', 'mainroad',\n",
       "       'guestroom', 'basement', 'hotwaterheating', 'airconditioning',\n",
       "       'parking', 'prefarea', 'furnishingstatus'],\n",
       "      dtype='object')"
      ]
     },
     "execution_count": 9,
     "metadata": {},
     "output_type": "execute_result"
    }
   ],
   "source": [
    "df.columns"
   ]
  },
  {
   "cell_type": "markdown",
   "id": "3ded3fed",
   "metadata": {
    "papermill": {
     "duration": 0.026179,
     "end_time": "2023-12-07T15:55:45.597118",
     "exception": false,
     "start_time": "2023-12-07T15:55:45.570939",
     "status": "completed"
    },
    "tags": []
   },
   "source": [
    "**Check for null values**"
   ]
  },
  {
   "cell_type": "code",
   "execution_count": 10,
   "id": "4cb40281",
   "metadata": {
    "execution": {
     "iopub.execute_input": "2023-12-07T15:55:45.655357Z",
     "iopub.status.busy": "2023-12-07T15:55:45.654505Z",
     "iopub.status.idle": "2023-12-07T15:55:45.666127Z",
     "shell.execute_reply": "2023-12-07T15:55:45.664774Z"
    },
    "papermill": {
     "duration": 0.044395,
     "end_time": "2023-12-07T15:55:45.669095",
     "exception": false,
     "start_time": "2023-12-07T15:55:45.624700",
     "status": "completed"
    },
    "tags": []
   },
   "outputs": [
    {
     "data": {
      "text/plain": [
       "price               0\n",
       "area                0\n",
       "bedrooms            0\n",
       "bathrooms           0\n",
       "stories             0\n",
       "mainroad            0\n",
       "guestroom           0\n",
       "basement            0\n",
       "hotwaterheating     0\n",
       "airconditioning     0\n",
       "parking             0\n",
       "prefarea            0\n",
       "furnishingstatus    0\n",
       "dtype: int64"
      ]
     },
     "execution_count": 10,
     "metadata": {},
     "output_type": "execute_result"
    }
   ],
   "source": [
    "df.isna().sum()"
   ]
  },
  {
   "cell_type": "markdown",
   "id": "5e8a7fc1",
   "metadata": {
    "papermill": {
     "duration": 0.024148,
     "end_time": "2023-12-07T15:55:45.717817",
     "exception": false,
     "start_time": "2023-12-07T15:55:45.693669",
     "status": "completed"
    },
    "tags": []
   },
   "source": [
    "No missing values"
   ]
  },
  {
   "cell_type": "markdown",
   "id": "3062b381",
   "metadata": {
    "papermill": {
     "duration": 0.02407,
     "end_time": "2023-12-07T15:55:45.766710",
     "exception": false,
     "start_time": "2023-12-07T15:55:45.742640",
     "status": "completed"
    },
    "tags": []
   },
   "source": [
    "**Let's do a lil bit of EDA !**"
   ]
  },
  {
   "cell_type": "markdown",
   "id": "c2c78930",
   "metadata": {
    "papermill": {
     "duration": 0.024048,
     "end_time": "2023-12-07T15:55:45.815055",
     "exception": false,
     "start_time": "2023-12-07T15:55:45.791007",
     "status": "completed"
    },
    "tags": []
   },
   "source": [
    "![](https://sphero.com/cdn/shop/articles/data-visualization-header-black_1200x.png?v=1674511334)"
   ]
  },
  {
   "cell_type": "code",
   "execution_count": 11,
   "id": "abe0ced9",
   "metadata": {
    "execution": {
     "iopub.execute_input": "2023-12-07T15:55:45.870099Z",
     "iopub.status.busy": "2023-12-07T15:55:45.869163Z",
     "iopub.status.idle": "2023-12-07T15:55:46.621404Z",
     "shell.execute_reply": "2023-12-07T15:55:46.618410Z"
    },
    "papermill": {
     "duration": 0.784645,
     "end_time": "2023-12-07T15:55:46.624686",
     "exception": false,
     "start_time": "2023-12-07T15:55:45.840041",
     "status": "completed"
    },
    "tags": []
   },
   "outputs": [
    {
     "data": {
      "image/png": "[encoded data removed]",
      "text/plain": [
       "<Figure size 2000x800 with 2 Axes>"
      ]
     },
     "metadata": {},
     "output_type": "display_data"
    }
   ],
   "source": [
    "plt.figure(figsize=(20,8))\n",
    "\n",
    "plt.subplot(1,2,1)\n",
    "plt.title('House Price Distribution Plot')\n",
    "sns.distplot(df.price)\n",
    "\n",
    "plt.subplot(1,2,2)\n",
    "sns.boxplot(df.price)\n",
    "plt.title('House Pricing Spread')\n",
    "\n",
    "plt.show()"
   ]
  },
  {
   "cell_type": "code",
   "execution_count": 12,
   "id": "ba3e4131",
   "metadata": {
    "execution": {
     "iopub.execute_input": "2023-12-07T15:55:46.679861Z",
     "iopub.status.busy": "2023-12-07T15:55:46.678518Z",
     "iopub.status.idle": "2023-12-07T15:55:46.691773Z",
     "shell.execute_reply": "2023-12-07T15:55:46.690107Z"
    },
    "papermill": {
     "duration": 0.042803,
     "end_time": "2023-12-07T15:55:46.694362",
     "exception": false,
     "start_time": "2023-12-07T15:55:46.651559",
     "status": "completed"
    },
    "tags": []
   },
   "outputs": [
    {
     "name": "stdout",
     "output_type": "stream",
     "text": [
      "count    5.450000e+02\n",
      "mean     4.766729e+06\n",
      "std      1.870440e+06\n",
      "min      1.750000e+06\n",
      "25%      3.430000e+06\n",
      "50%      4.340000e+06\n",
      "75%      5.740000e+06\n",
      "85%      6.615000e+06\n",
      "90%      7.350000e+06\n",
      "100%     1.330000e+07\n",
      "max      1.330000e+07\n",
      "Name: price, dtype: float64\n"
     ]
    }
   ],
   "source": [
    "print(df.price.describe(percentiles = [0.25,0.50,0.75,0.85,0.90,1]))"
   ]
  },
  {
   "cell_type": "markdown",
   "id": "fa6b69d6",
   "metadata": {
    "papermill": {
     "duration": 0.025991,
     "end_time": "2023-12-07T15:55:46.746738",
     "exception": false,
     "start_time": "2023-12-07T15:55:46.720747",
     "status": "completed"
    },
    "tags": []
   },
   "source": [
    "Inference :\n",
    "The plot seemed to be right-skewed mildly.\n",
    "There is a slight difference between the mean and the median of the price distribution.\n"
   ]
  },
  {
   "cell_type": "markdown",
   "id": "3bb78de2",
   "metadata": {
    "papermill": {
     "duration": 0.027643,
     "end_time": "2023-12-07T15:55:46.800214",
     "exception": false,
     "start_time": "2023-12-07T15:55:46.772571",
     "status": "completed"
    },
    "tags": []
   },
   "source": [
    "**Visualising Categorical Data**"
   ]
  },
  {
   "cell_type": "code",
   "execution_count": 13,
   "id": "eabf65cf",
   "metadata": {
    "execution": {
     "iopub.execute_input": "2023-12-07T15:55:46.856111Z",
     "iopub.status.busy": "2023-12-07T15:55:46.854662Z",
     "iopub.status.idle": "2023-12-07T15:55:46.861102Z",
     "shell.execute_reply": "2023-12-07T15:55:46.860060Z"
    },
    "papermill": {
     "duration": 0.03827,
     "end_time": "2023-12-07T15:55:46.863909",
     "exception": false,
     "start_time": "2023-12-07T15:55:46.825639",
     "status": "completed"
    },
    "tags": []
   },
   "outputs": [],
   "source": [
    "categorical_list = [x for x in df.columns if df[x].dtype =='object']"
   ]
  },
  {
   "cell_type": "code",
   "execution_count": 14,
   "id": "72a9356c",
   "metadata": {
    "execution": {
     "iopub.execute_input": "2023-12-07T15:55:46.920595Z",
     "iopub.status.busy": "2023-12-07T15:55:46.919656Z",
     "iopub.status.idle": "2023-12-07T15:55:46.926247Z",
     "shell.execute_reply": "2023-12-07T15:55:46.924676Z"
    },
    "papermill": {
     "duration": 0.037861,
     "end_time": "2023-12-07T15:55:46.929329",
     "exception": false,
     "start_time": "2023-12-07T15:55:46.891468",
     "status": "completed"
    },
    "tags": []
   },
   "outputs": [
    {
     "name": "stdout",
     "output_type": "stream",
     "text": [
      "mainroad\n",
      "guestroom\n",
      "basement\n",
      "hotwaterheating\n",
      "airconditioning\n",
      "prefarea\n",
      "furnishingstatus\n"
     ]
    }
   ],
   "source": [
    "for x in categorical_list: print(x)"
   ]
  },
  {
   "cell_type": "code",
   "execution_count": 15,
   "id": "c0d49949",
   "metadata": {
    "execution": {
     "iopub.execute_input": "2023-12-07T15:55:46.982627Z",
     "iopub.status.busy": "2023-12-07T15:55:46.982177Z",
     "iopub.status.idle": "2023-12-07T15:55:47.688785Z",
     "shell.execute_reply": "2023-12-07T15:55:47.687527Z"
    },
    "papermill": {
     "duration": 0.73688,
     "end_time": "2023-12-07T15:55:47.691899",
     "exception": false,
     "start_time": "2023-12-07T15:55:46.955019",
     "status": "completed"
    },
    "tags": []
   },
   "outputs": [
    {
     "data": {
      "image/png": "[encoded data removed]",
      "text/plain": [
       "<Figure size 1500x600 with 3 Axes>"
      ]
     },
     "metadata": {},
     "output_type": "display_data"
    }
   ],
   "source": [
    "plt.figure(figsize=(15, 6))\n",
    "\n",
    "plt.subplot(1,3,1)\n",
    "plt1 = df['mainroad'].value_counts().plot(kind='bar')\n",
    "plt.title('mainroad Histogram')\n",
    "plt1.set(xlabel = 'mainroad', ylabel='Frequency of mainroad')\n",
    "\n",
    "plt.subplot(1,3,2)\n",
    "plt1 = df['guestroom'].value_counts().plot(kind='bar')\n",
    "plt.title('guestroom Histogram')\n",
    "plt1.set(xlabel = 'guestroom', ylabel='Frequency of guestroom')\n",
    "\n",
    "plt.subplot(1,3,3)\n",
    "plt1 = df['basement'].value_counts().plot(kind='bar')\n",
    "plt.title('basement Histogram')\n",
    "plt1.set(xlabel = 'basement', ylabel='Frequency of basement')\n",
    "\n",
    "plt.show()"
   ]
  },
  {
   "cell_type": "code",
   "execution_count": 16,
   "id": "35235b5b",
   "metadata": {
    "execution": {
     "iopub.execute_input": "2023-12-07T15:55:47.746702Z",
     "iopub.status.busy": "2023-12-07T15:55:47.746281Z",
     "iopub.status.idle": "2023-12-07T15:55:48.711215Z",
     "shell.execute_reply": "2023-12-07T15:55:48.709898Z"
    },
    "papermill": {
     "duration": 0.996021,
     "end_time": "2023-12-07T15:55:48.714400",
     "exception": false,
     "start_time": "2023-12-07T15:55:47.718379",
     "status": "completed"
    },
    "tags": []
   },
   "outputs": [
    {
     "data": {
      "image/png": "[encoded data removed]",
      "text/plain": [
       "<Figure size 1500x500 with 3 Axes>"
      ]
     },
     "metadata": {},
     "output_type": "display_data"
    },
    {
     "data": {
      "image/png": "[encoded data removed]",
      "text/plain": [
       "<Figure size 640x480 with 1 Axes>"
      ]
     },
     "metadata": {},
     "output_type": "display_data"
    }
   ],
   "source": [
    "plt.figure(figsize=(15, 5))\n",
    "plt.subplot(1, 3, 1)\n",
    "plt1 = df['hotwaterheating'].value_counts().plot(kind='bar',color='r')\n",
    "plt.title('hotwaterheating Histogram')\n",
    "plt1.set(xlabel = 'hotwaterheating', ylabel='Frequency of hotwaterheating')\n",
    "\n",
    "plt.subplot(1, 3, 2)\n",
    "plt1 = df['airconditioning'].value_counts().plot(kind='bar',color='r')\n",
    "plt.title('airconditioning Histogram')\n",
    "plt1.set(xlabel = 'airconditioning', ylabel='Frequency of airconditioning')\n",
    "\n",
    "plt.subplot(1, 3, 3)\n",
    "plt1 = df['prefarea'].value_counts().plot(kind='bar',color='r')\n",
    "plt.title('prefarea Histogram')\n",
    "plt1.set(xlabel = 'prefarea', ylabel='Frequency of prefarea')\n",
    "plt.show()\n",
    "\n",
    "plt.subplot(2, 2, 3)\n",
    "plt1 = df['furnishingstatus'].value_counts().plot(kind='bar',color='r')\n",
    "plt.title('furnishingstatus')\n",
    "plt1.set(xlabel = 'furnishingstatus', ylabel='Frequency of furnishingstatus')\n",
    "plt.show()"
   ]
  },
  {
   "cell_type": "code",
   "execution_count": 17,
   "id": "1ede0a9c",
   "metadata": {
    "execution": {
     "iopub.execute_input": "2023-12-07T15:55:48.774873Z",
     "iopub.status.busy": "2023-12-07T15:55:48.774397Z",
     "iopub.status.idle": "2023-12-07T15:55:49.228072Z",
     "shell.execute_reply": "2023-12-07T15:55:49.227064Z"
    },
    "papermill": {
     "duration": 0.487196,
     "end_time": "2023-12-07T15:55:49.230581",
     "exception": false,
     "start_time": "2023-12-07T15:55:48.743385",
     "status": "completed"
    },
    "tags": []
   },
   "outputs": [
    {
     "data": {
      "image/png": "[encoded data removed]",
      "text/plain": [
       "<Figure size 1000x500 with 2 Axes>"
      ]
     },
     "metadata": {},
     "output_type": "display_data"
    }
   ],
   "source": [
    "plt.figure(figsize=(10,5))\n",
    "\n",
    "plt.subplot(1,2,1)\n",
    "plt.title('Mainroad vs Price')\n",
    "sns.boxplot(x=df.mainroad, y=df.price, palette=(\"cubehelix\"))\n",
    "\n",
    "plt.subplot(1,2,2)\n",
    "plt.title('guestroom vs Price')\n",
    "sns.boxplot(x=df.guestroom, y=df.price, palette=(\"PuBuGn\"))\n",
    "\n",
    "plt.show()"
   ]
  },
  {
   "cell_type": "markdown",
   "id": "02440167",
   "metadata": {
    "papermill": {
     "duration": 0.027887,
     "end_time": "2023-12-07T15:55:49.288004",
     "exception": false,
     "start_time": "2023-12-07T15:55:49.260117",
     "status": "completed"
    },
    "tags": []
   },
   "source": [
    "Infrence - having a mainroad and having a guestroom supply have corelation with price."
   ]
  },
  {
   "cell_type": "code",
   "execution_count": 18,
   "id": "52951678",
   "metadata": {
    "execution": {
     "iopub.execute_input": "2023-12-07T15:55:49.347254Z",
     "iopub.status.busy": "2023-12-07T15:55:49.346460Z",
     "iopub.status.idle": "2023-12-07T15:55:49.774414Z",
     "shell.execute_reply": "2023-12-07T15:55:49.773159Z"
    },
    "papermill": {
     "duration": 0.461455,
     "end_time": "2023-12-07T15:55:49.777637",
     "exception": false,
     "start_time": "2023-12-07T15:55:49.316182",
     "status": "completed"
    },
    "tags": []
   },
   "outputs": [
    {
     "data": {
      "image/png": "[encoded data removed]",
      "text/plain": [
       "<Figure size 1000x500 with 2 Axes>"
      ]
     },
     "metadata": {},
     "output_type": "display_data"
    }
   ],
   "source": [
    "plt.figure(figsize=(10,5))\n",
    "\n",
    "plt.subplot(1,2,1)\n",
    "plt.title('basement vs Price')\n",
    "sns.boxplot(x=df.basement, y=df.price, palette=(\"cubehelix\"))\n",
    "\n",
    "plt.subplot(1,2,2)\n",
    "plt.title('hotwaterheating vs Price')\n",
    "sns.boxplot(x=df.hotwaterheating, y=df.price, palette=(\"PuBuGn\"))\n",
    "\n",
    "plt.show()"
   ]
  },
  {
   "cell_type": "markdown",
   "id": "27a530e7",
   "metadata": {
    "papermill": {
     "duration": 0.028996,
     "end_time": "2023-12-07T15:55:49.835545",
     "exception": false,
     "start_time": "2023-12-07T15:55:49.806549",
     "status": "completed"
    },
    "tags": []
   },
   "source": [
    "Infrence - having a basement and having a hotwarer supply have slight corelation with price."
   ]
  },
  {
   "cell_type": "code",
   "execution_count": 19,
   "id": "6e0c4934",
   "metadata": {
    "execution": {
     "iopub.execute_input": "2023-12-07T15:55:49.902799Z",
     "iopub.status.busy": "2023-12-07T15:55:49.901611Z",
     "iopub.status.idle": "2023-12-07T15:55:50.750085Z",
     "shell.execute_reply": "2023-12-07T15:55:50.749120Z"
    },
    "papermill": {
     "duration": 0.890693,
     "end_time": "2023-12-07T15:55:50.756371",
     "exception": false,
     "start_time": "2023-12-07T15:55:49.865678",
     "status": "completed"
    },
    "tags": []
   },
   "outputs": [
    {
     "data": {
      "image/png": "[encoded data removed]",
      "text/plain": [
       "<Figure size 1000x500 with 3 Axes>"
      ]
     },
     "metadata": {},
     "output_type": "display_data"
    }
   ],
   "source": [
    "\n",
    "plt.figure(figsize=(10,5))\n",
    "\n",
    "plt.subplot(1,3,1)\n",
    "plt.title('airconditioning vs Price')\n",
    "sns.boxplot(x=df.airconditioning, y=df.price, palette=(\"cubehelix\"))\n",
    "\n",
    "plt.subplot(1,3,2)\n",
    "plt.title('prefarea vs Price')\n",
    "sns.boxplot(x=df.prefarea, y=df.price, palette=(\"PuBuGn\"))\n",
    "\n",
    "plt.subplot(1,3,3)\n",
    "plt.title('furnishingstatus vs Price')\n",
    "sns.boxplot(x=df.furnishingstatus, y=df.price, palette=(\"PuBuGn\"))\n",
    "plt.xticks(rotation=45)\n",
    "\n",
    "plt.show()\n",
    "\n"
   ]
  },
  {
   "cell_type": "markdown",
   "id": "6cb456e6",
   "metadata": {
    "papermill": {
     "duration": 0.029463,
     "end_time": "2023-12-07T15:55:50.835090",
     "exception": false,
     "start_time": "2023-12-07T15:55:50.805627",
     "status": "completed"
    },
    "tags": []
   },
   "source": [
    "Infrence - having aircondition and prefarea have positive corealtion with Price of the house. Also a furnished house would have higher price."
   ]
  },
  {
   "cell_type": "markdown",
   "id": "124d1b7b",
   "metadata": {
    "papermill": {
     "duration": 0.03415,
     "end_time": "2023-12-07T15:55:50.901739",
     "exception": false,
     "start_time": "2023-12-07T15:55:50.867589",
     "status": "completed"
    },
    "tags": []
   },
   "source": [
    "**Visualising numerical data**"
   ]
  },
  {
   "cell_type": "code",
   "execution_count": 40,
   "id": "90ae45de",
   "metadata": {
    "execution": {
     "iopub.execute_input": "2023-12-07T15:55:50.968697Z",
     "iopub.status.busy": "2023-12-07T15:55:50.968261Z",
     "iopub.status.idle": "2023-12-07T15:55:50.975595Z",
     "shell.execute_reply": "2023-12-07T15:55:50.974269Z"
    },
    "papermill": {
     "duration": 0.044354,
     "end_time": "2023-12-07T15:55:50.979590",
     "exception": false,
     "start_time": "2023-12-07T15:55:50.935236",
     "status": "completed"
    },
    "tags": []
   },
   "outputs": [
    {
     "name": "stdout",
     "output_type": "stream",
     "text": [
      "['price', 'area', 'bedrooms', 'bathrooms', 'stories', 'parking']\n"
     ]
    }
   ],
   "source": [
    "numerical_list = df.select_dtypes(include=['int64', 'float64']).columns.tolist()\n",
    "print(numerical_list)"
   ]
  },
  {
   "cell_type": "code",
   "execution_count": 41,
   "id": "90443eb8",
   "metadata": {
    "execution": {
     "iopub.execute_input": "2023-12-07T15:55:51.045425Z",
     "iopub.status.busy": "2023-12-07T15:55:51.044577Z",
     "iopub.status.idle": "2023-12-07T15:55:52.907827Z",
     "shell.execute_reply": "2023-12-07T15:55:52.906468Z"
    },
    "papermill": {
     "duration": 1.899031,
     "end_time": "2023-12-07T15:55:52.912154",
     "exception": false,
     "start_time": "2023-12-07T15:55:51.013123",
     "status": "completed"
    },
    "tags": []
   },
   "outputs": [
    {
     "data": {
      "image/png": "[encoded data removed]",
      "text/plain": [
       "<Figure size 1000x2000 with 5 Axes>"
      ]
     },
     "metadata": {},
     "output_type": "display_data"
    }
   ],
   "source": [
    "def scatter(x,fig):\n",
    "    plt.subplot(5,2,fig)\n",
    "    plt.scatter(df[x],df['price'])\n",
    "    plt.title(x+' vs Price')\n",
    "    plt.ylabel('Price')\n",
    "    plt.xlabel(x)\n",
    "\n",
    "plt.figure(figsize=(10,20))\n",
    "\n",
    "scatter('area', 1)\n",
    "scatter('bedrooms', 2)\n",
    "scatter('bathrooms', 3)\n",
    "scatter('stories', 4)\n",
    "scatter('parking',5)\n",
    "\n",
    "plt.tight_layout()"
   ]
  },
  {
   "cell_type": "markdown",
   "id": "4b383c67",
   "metadata": {
    "papermill": {
     "duration": 0.031174,
     "end_time": "2023-12-07T15:55:52.975240",
     "exception": false,
     "start_time": "2023-12-07T15:55:52.944066",
     "status": "completed"
    },
    "tags": []
   },
   "source": [
    "Inference - Area has a strong positive corealtion with Price"
   ]
  },
  {
   "cell_type": "code",
   "execution_count": 45,
   "id": "0a95b541",
   "metadata": {
    "execution": {
     "iopub.execute_input": "2023-12-07T15:55:53.042569Z",
     "iopub.status.busy": "2023-12-07T15:55:53.042107Z",
     "iopub.status.idle": "2023-12-07T15:56:06.123207Z",
     "shell.execute_reply": "2023-12-07T15:56:06.121615Z"
    },
    "papermill": {
     "duration": 13.119008,
     "end_time": "2023-12-07T15:56:06.127090",
     "exception": false,
     "start_time": "2023-12-07T15:55:53.008082",
     "status": "completed"
    },
    "tags": []
   },
   "outputs": [
    {
     "ename": "ValueError",
     "evalue": "Data must be 1-dimensional, got ndarray of shape (545, 6) instead",
     "output_type": "error",
     "traceback": [
      "\u001b[1;31m---------------------------------------------------------------------------\u001b[0m",
      "\u001b[1;31mValueError\u001b[0m                                Traceback (most recent call last)",
      "Cell \u001b[1;32mIn[45], line 1\u001b[0m\n\u001b[1;32m----> 1\u001b[0m sns\u001b[38;5;241m.\u001b[39mpairplot(df)\n\u001b[0;32m      2\u001b[0m plt\u001b[38;5;241m.\u001b[39mshow()\n",
      "File \u001b[1;32mc:\\ProgramData\\anaconda3\\Lib\\site-packages\\seaborn\\axisgrid.py:2119\u001b[0m, in \u001b[0;36mpairplot\u001b[1;34m(data, hue, hue_order, palette, vars, x_vars, y_vars, kind, diag_kind, markers, height, aspect, corner, dropna, plot_kws, diag_kws, grid_kws, size)\u001b[0m\n\u001b[0;32m   2117\u001b[0m \u001b[38;5;66;03m# Set up the PairGrid\u001b[39;00m\n\u001b[0;32m   2118\u001b[0m grid_kws\u001b[38;5;241m.\u001b[39msetdefault(\u001b[38;5;124m\"\u001b[39m\u001b[38;5;124mdiag_sharey\u001b[39m\u001b[38;5;124m\"\u001b[39m, diag_kind \u001b[38;5;241m==\u001b[39m \u001b[38;5;124m\"\u001b[39m\u001b[38;5;124mhist\u001b[39m\u001b[38;5;124m\"\u001b[39m)\n\u001b[1;32m-> 2119\u001b[0m grid \u001b[38;5;241m=\u001b[39m PairGrid(data, \u001b[38;5;28mvars\u001b[39m\u001b[38;5;241m=\u001b[39m\u001b[38;5;28mvars\u001b[39m, x_vars\u001b[38;5;241m=\u001b[39mx_vars, y_vars\u001b[38;5;241m=\u001b[39my_vars, hue\u001b[38;5;241m=\u001b[39mhue,\n\u001b[0;32m   2120\u001b[0m                 hue_order\u001b[38;5;241m=\u001b[39mhue_order, palette\u001b[38;5;241m=\u001b[39mpalette, corner\u001b[38;5;241m=\u001b[39mcorner,\n\u001b[0;32m   2121\u001b[0m                 height\u001b[38;5;241m=\u001b[39mheight, aspect\u001b[38;5;241m=\u001b[39maspect, dropna\u001b[38;5;241m=\u001b[39mdropna, \u001b[38;5;241m*\u001b[39m\u001b[38;5;241m*\u001b[39mgrid_kws)\n\u001b[0;32m   2123\u001b[0m \u001b[38;5;66;03m# Add the markers here as PairGrid has figured out how many levels of the\u001b[39;00m\n\u001b[0;32m   2124\u001b[0m \u001b[38;5;66;03m# hue variable are needed and we don't want to duplicate that process\u001b[39;00m\n\u001b[0;32m   2125\u001b[0m \u001b[38;5;28;01mif\u001b[39;00m markers \u001b[38;5;129;01mis\u001b[39;00m \u001b[38;5;129;01mnot\u001b[39;00m \u001b[38;5;28;01mNone\u001b[39;00m:\n",
      "File \u001b[1;32mc:\\ProgramData\\anaconda3\\Lib\\site-packages\\seaborn\\axisgrid.py:1251\u001b[0m, in \u001b[0;36mPairGrid.__init__\u001b[1;34m(self, data, hue, vars, x_vars, y_vars, hue_order, palette, hue_kws, corner, diag_sharey, height, aspect, layout_pad, despine, dropna)\u001b[0m\n\u001b[0;32m   1248\u001b[0m data \u001b[38;5;241m=\u001b[39m handle_data_source(data)\n\u001b[0;32m   1250\u001b[0m \u001b[38;5;66;03m# Sort out the variables that define the grid\u001b[39;00m\n\u001b[1;32m-> 1251\u001b[0m numeric_cols \u001b[38;5;241m=\u001b[39m \u001b[38;5;28mself\u001b[39m\u001b[38;5;241m.\u001b[39m_find_numeric_cols(data)\n\u001b[0;32m   1252\u001b[0m \u001b[38;5;28;01mif\u001b[39;00m hue \u001b[38;5;129;01min\u001b[39;00m numeric_cols:\n\u001b[0;32m   1253\u001b[0m     numeric_cols\u001b[38;5;241m.\u001b[39mremove(hue)\n",
      "File \u001b[1;32mc:\\ProgramData\\anaconda3\\Lib\\site-packages\\seaborn\\axisgrid.py:1674\u001b[0m, in \u001b[0;36mPairGrid._find_numeric_cols\u001b[1;34m(self, data)\u001b[0m\n\u001b[0;32m   1672\u001b[0m numeric_cols \u001b[38;5;241m=\u001b[39m []\n\u001b[0;32m   1673\u001b[0m \u001b[38;5;28;01mfor\u001b[39;00m col \u001b[38;5;129;01min\u001b[39;00m data:\n\u001b[1;32m-> 1674\u001b[0m     \u001b[38;5;28;01mif\u001b[39;00m variable_type(data[col]) \u001b[38;5;241m==\u001b[39m \u001b[38;5;124m\"\u001b[39m\u001b[38;5;124mnumeric\u001b[39m\u001b[38;5;124m\"\u001b[39m:\n\u001b[0;32m   1675\u001b[0m         numeric_cols\u001b[38;5;241m.\u001b[39mappend(col)\n\u001b[0;32m   1676\u001b[0m \u001b[38;5;28;01mreturn\u001b[39;00m numeric_cols\n",
      "File \u001b[1;32mc:\\ProgramData\\anaconda3\\Lib\\site-packages\\seaborn\\_base.py:1495\u001b[0m, in \u001b[0;36mvariable_type\u001b[1;34m(vector, boolean_type)\u001b[0m\n\u001b[0;32m   1472\u001b[0m \u001b[38;5;28;01mdef\u001b[39;00m \u001b[38;5;21mvariable_type\u001b[39m(vector, boolean_type\u001b[38;5;241m=\u001b[39m\u001b[38;5;124m\"\u001b[39m\u001b[38;5;124mnumeric\u001b[39m\u001b[38;5;124m\"\u001b[39m):\n\u001b[0;32m   1473\u001b[0m \u001b[38;5;250m    \u001b[39m\u001b[38;5;124;03m\"\"\"\u001b[39;00m\n\u001b[0;32m   1474\u001b[0m \u001b[38;5;124;03m    Determine whether a vector contains numeric, categorical, or datetime data.\u001b[39;00m\n\u001b[0;32m   1475\u001b[0m \n\u001b[1;32m   (...)\u001b[0m\n\u001b[0;32m   1493\u001b[0m \u001b[38;5;124;03m        Name identifying the type of data in the vector.\u001b[39;00m\n\u001b[0;32m   1494\u001b[0m \u001b[38;5;124;03m    \"\"\"\u001b[39;00m\n\u001b[1;32m-> 1495\u001b[0m     vector \u001b[38;5;241m=\u001b[39m pd\u001b[38;5;241m.\u001b[39mSeries(vector)\n\u001b[0;32m   1497\u001b[0m     \u001b[38;5;66;03m# If a categorical dtype is set, infer categorical\u001b[39;00m\n\u001b[0;32m   1498\u001b[0m     \u001b[38;5;28;01mif\u001b[39;00m \u001b[38;5;28misinstance\u001b[39m(vector\u001b[38;5;241m.\u001b[39mdtype, pd\u001b[38;5;241m.\u001b[39mCategoricalDtype):\n",
      "File \u001b[1;32mc:\\ProgramData\\anaconda3\\Lib\\site-packages\\pandas\\core\\series.py:584\u001b[0m, in \u001b[0;36mSeries.__init__\u001b[1;34m(self, data, index, dtype, name, copy, fastpath)\u001b[0m\n\u001b[0;32m    582\u001b[0m         data \u001b[38;5;241m=\u001b[39m data\u001b[38;5;241m.\u001b[39mcopy()\n\u001b[0;32m    583\u001b[0m \u001b[38;5;28;01melse\u001b[39;00m:\n\u001b[1;32m--> 584\u001b[0m     data \u001b[38;5;241m=\u001b[39m sanitize_array(data, index, dtype, copy)\n\u001b[0;32m    586\u001b[0m     manager \u001b[38;5;241m=\u001b[39m _get_option(\u001b[38;5;124m\"\u001b[39m\u001b[38;5;124mmode.data_manager\u001b[39m\u001b[38;5;124m\"\u001b[39m, silent\u001b[38;5;241m=\u001b[39m\u001b[38;5;28;01mTrue\u001b[39;00m)\n\u001b[0;32m    587\u001b[0m     \u001b[38;5;28;01mif\u001b[39;00m manager \u001b[38;5;241m==\u001b[39m \u001b[38;5;124m\"\u001b[39m\u001b[38;5;124mblock\u001b[39m\u001b[38;5;124m\"\u001b[39m:\n",
      "File \u001b[1;32mc:\\ProgramData\\anaconda3\\Lib\\site-packages\\pandas\\core\\construction.py:633\u001b[0m, in \u001b[0;36msanitize_array\u001b[1;34m(data, index, dtype, copy, allow_2d)\u001b[0m\n\u001b[0;32m    631\u001b[0m     \u001b[38;5;28;01melse\u001b[39;00m:\n\u001b[0;32m    632\u001b[0m         data \u001b[38;5;241m=\u001b[39m np\u001b[38;5;241m.\u001b[39marray(data, copy\u001b[38;5;241m=\u001b[39mcopy)\n\u001b[1;32m--> 633\u001b[0m     \u001b[38;5;28;01mreturn\u001b[39;00m sanitize_array(\n\u001b[0;32m    634\u001b[0m         data,\n\u001b[0;32m    635\u001b[0m         index\u001b[38;5;241m=\u001b[39mindex,\n\u001b[0;32m    636\u001b[0m         dtype\u001b[38;5;241m=\u001b[39mdtype,\n\u001b[0;32m    637\u001b[0m         copy\u001b[38;5;241m=\u001b[39m\u001b[38;5;28;01mFalse\u001b[39;00m,\n\u001b[0;32m    638\u001b[0m         allow_2d\u001b[38;5;241m=\u001b[39mallow_2d,\n\u001b[0;32m    639\u001b[0m     )\n\u001b[0;32m    641\u001b[0m \u001b[38;5;28;01melse\u001b[39;00m:\n\u001b[0;32m    642\u001b[0m     _sanitize_non_ordered(data)\n",
      "File \u001b[1;32mc:\\ProgramData\\anaconda3\\Lib\\site-packages\\pandas\\core\\construction.py:659\u001b[0m, in \u001b[0;36msanitize_array\u001b[1;34m(data, index, dtype, copy, allow_2d)\u001b[0m\n\u001b[0;32m    656\u001b[0m             subarr \u001b[38;5;241m=\u001b[39m cast(np\u001b[38;5;241m.\u001b[39mndarray, subarr)\n\u001b[0;32m    657\u001b[0m             subarr \u001b[38;5;241m=\u001b[39m maybe_infer_to_datetimelike(subarr)\n\u001b[1;32m--> 659\u001b[0m subarr \u001b[38;5;241m=\u001b[39m _sanitize_ndim(subarr, data, dtype, index, allow_2d\u001b[38;5;241m=\u001b[39mallow_2d)\n\u001b[0;32m    661\u001b[0m \u001b[38;5;28;01mif\u001b[39;00m \u001b[38;5;28misinstance\u001b[39m(subarr, np\u001b[38;5;241m.\u001b[39mndarray):\n\u001b[0;32m    662\u001b[0m     \u001b[38;5;66;03m# at this point we should have dtype be None or subarr.dtype == dtype\u001b[39;00m\n\u001b[0;32m    663\u001b[0m     dtype \u001b[38;5;241m=\u001b[39m cast(np\u001b[38;5;241m.\u001b[39mdtype, dtype)\n",
      "File \u001b[1;32mc:\\ProgramData\\anaconda3\\Lib\\site-packages\\pandas\\core\\construction.py:718\u001b[0m, in \u001b[0;36m_sanitize_ndim\u001b[1;34m(result, data, dtype, index, allow_2d)\u001b[0m\n\u001b[0;32m    716\u001b[0m     \u001b[38;5;28;01mif\u001b[39;00m allow_2d:\n\u001b[0;32m    717\u001b[0m         \u001b[38;5;28;01mreturn\u001b[39;00m result\n\u001b[1;32m--> 718\u001b[0m     \u001b[38;5;28;01mraise\u001b[39;00m \u001b[38;5;167;01mValueError\u001b[39;00m(\n\u001b[0;32m    719\u001b[0m         \u001b[38;5;124mf\u001b[39m\u001b[38;5;124m\"\u001b[39m\u001b[38;5;124mData must be 1-dimensional, got ndarray of shape \u001b[39m\u001b[38;5;132;01m{\u001b[39;00mdata\u001b[38;5;241m.\u001b[39mshape\u001b[38;5;132;01m}\u001b[39;00m\u001b[38;5;124m instead\u001b[39m\u001b[38;5;124m\"\u001b[39m\n\u001b[0;32m    720\u001b[0m     )\n\u001b[0;32m    721\u001b[0m \u001b[38;5;28;01mif\u001b[39;00m is_object_dtype(dtype) \u001b[38;5;129;01mand\u001b[39;00m \u001b[38;5;28misinstance\u001b[39m(dtype, ExtensionDtype):\n\u001b[0;32m    722\u001b[0m     \u001b[38;5;66;03m# i.e. NumpyEADtype(\"O\")\u001b[39;00m\n\u001b[0;32m    724\u001b[0m     result \u001b[38;5;241m=\u001b[39m com\u001b[38;5;241m.\u001b[39masarray_tuplesafe(data, dtype\u001b[38;5;241m=\u001b[39mnp\u001b[38;5;241m.\u001b[39mdtype(\u001b[38;5;124m\"\u001b[39m\u001b[38;5;124mobject\u001b[39m\u001b[38;5;124m\"\u001b[39m))\n",
      "\u001b[1;31mValueError\u001b[0m: Data must be 1-dimensional, got ndarray of shape (545, 6) instead"
     ]
    }
   ],
   "source": [
    "sns.pairplot(df)\n",
    "plt.show()"
   ]
  },
  {
   "cell_type": "code",
   "execution_count": 46,
   "id": "6e3926ee",
   "metadata": {
    "execution": {
     "iopub.execute_input": "2023-12-07T15:56:06.203847Z",
     "iopub.status.busy": "2023-12-07T15:56:06.203244Z",
     "iopub.status.idle": "2023-12-07T15:56:06.716739Z",
     "shell.execute_reply": "2023-12-07T15:56:06.715721Z"
    },
    "papermill": {
     "duration": 0.555308,
     "end_time": "2023-12-07T15:56:06.719010",
     "exception": false,
     "start_time": "2023-12-07T15:56:06.163702",
     "status": "completed"
    },
    "tags": []
   },
   "outputs": [
    {
     "data": {
      "image/png": "[encoded data removed]",
      "text/plain": [
       "<Figure size 1200x800 with 2 Axes>"
      ]
     },
     "metadata": {},
     "output_type": "display_data"
    }
   ],
   "source": [
    "cor_matrix= df[numerical_list].corr()\n",
    "plt.figure(figsize=(12, 8))  # Set the figure size\n",
    "sns.heatmap(cor_matrix, annot=True, cmap='coolwarm', linewidths=0.5)\n",
    "plt.title('Correlation Heatmap')\n",
    "plt.show()"
   ]
  },
  {
   "cell_type": "markdown",
   "id": "adce046d",
   "metadata": {
    "papermill": {
     "duration": 0.036469,
     "end_time": "2023-12-07T15:56:06.791683",
     "exception": false,
     "start_time": "2023-12-07T15:56:06.755214",
     "status": "completed"
    },
    "tags": []
   },
   "source": [
    "Dummy Variables"
   ]
  },
  {
   "cell_type": "code",
   "execution_count": 47,
   "id": "33914d73",
   "metadata": {
    "execution": {
     "iopub.execute_input": "2023-12-07T15:56:06.869541Z",
     "iopub.status.busy": "2023-12-07T15:56:06.867648Z",
     "iopub.status.idle": "2023-12-07T15:56:06.896313Z",
     "shell.execute_reply": "2023-12-07T15:56:06.895163Z"
    },
    "papermill": {
     "duration": 0.071238,
     "end_time": "2023-12-07T15:56:06.898940",
     "exception": false,
     "start_time": "2023-12-07T15:56:06.827702",
     "status": "completed"
    },
    "tags": []
   },
   "outputs": [
    {
     "ename": "KeyError",
     "evalue": "'mainroad'",
     "output_type": "error",
     "traceback": [
      "\u001b[1;31m---------------------------------------------------------------------------\u001b[0m",
      "\u001b[1;31mKeyError\u001b[0m                                  Traceback (most recent call last)",
      "File \u001b[1;32mc:\\ProgramData\\anaconda3\\Lib\\site-packages\\pandas\\core\\indexes\\base.py:3805\u001b[0m, in \u001b[0;36mIndex.get_loc\u001b[1;34m(self, key)\u001b[0m\n\u001b[0;32m   3804\u001b[0m \u001b[38;5;28;01mtry\u001b[39;00m:\n\u001b[1;32m-> 3805\u001b[0m     \u001b[38;5;28;01mreturn\u001b[39;00m \u001b[38;5;28mself\u001b[39m\u001b[38;5;241m.\u001b[39m_engine\u001b[38;5;241m.\u001b[39mget_loc(casted_key)\n\u001b[0;32m   3806\u001b[0m \u001b[38;5;28;01mexcept\u001b[39;00m \u001b[38;5;167;01mKeyError\u001b[39;00m \u001b[38;5;28;01mas\u001b[39;00m err:\n",
      "File \u001b[1;32mindex.pyx:167\u001b[0m, in \u001b[0;36mpandas._libs.index.IndexEngine.get_loc\u001b[1;34m()\u001b[0m\n",
      "File \u001b[1;32mindex.pyx:191\u001b[0m, in \u001b[0;36mpandas._libs.index.IndexEngine.get_loc\u001b[1;34m()\u001b[0m\n",
      "File \u001b[1;32mindex.pyx:234\u001b[0m, in \u001b[0;36mpandas._libs.index.IndexEngine._get_loc_duplicates\u001b[1;34m()\u001b[0m\n",
      "File \u001b[1;32mindex.pyx:242\u001b[0m, in \u001b[0;36mpandas._libs.index.IndexEngine._maybe_get_bool_indexer\u001b[1;34m()\u001b[0m\n",
      "File \u001b[1;32mindex.pyx:134\u001b[0m, in \u001b[0;36mpandas._libs.index._unpack_bool_indexer\u001b[1;34m()\u001b[0m\n",
      "\u001b[1;31mKeyError\u001b[0m: 'mainroad'",
      "\nThe above exception was the direct cause of the following exception:\n",
      "\u001b[1;31mKeyError\u001b[0m                                  Traceback (most recent call last)",
      "Cell \u001b[1;32mIn[47], line 9\u001b[0m\n\u001b[0;32m      6\u001b[0m     \u001b[38;5;28;01mreturn\u001b[39;00m df\n\u001b[0;32m      7\u001b[0m \u001b[38;5;66;03m# Applying the function to the df\u001b[39;00m\n\u001b[1;32m----> 9\u001b[0m df \u001b[38;5;241m=\u001b[39m dummies(\u001b[38;5;124m'\u001b[39m\u001b[38;5;124mmainroad\u001b[39m\u001b[38;5;124m'\u001b[39m,df)\n\u001b[0;32m     10\u001b[0m df \u001b[38;5;241m=\u001b[39m dummies(\u001b[38;5;124m'\u001b[39m\u001b[38;5;124mguestroom\u001b[39m\u001b[38;5;124m'\u001b[39m,df)\n\u001b[0;32m     11\u001b[0m df \u001b[38;5;241m=\u001b[39m dummies(\u001b[38;5;124m'\u001b[39m\u001b[38;5;124mhotwaterheating\u001b[39m\u001b[38;5;124m'\u001b[39m,df)\n",
      "Cell \u001b[1;32mIn[47], line 3\u001b[0m, in \u001b[0;36mdummies\u001b[1;34m(x, df)\u001b[0m\n\u001b[0;32m      2\u001b[0m \u001b[38;5;28;01mdef\u001b[39;00m \u001b[38;5;21mdummies\u001b[39m(x,df):\n\u001b[1;32m----> 3\u001b[0m     temp \u001b[38;5;241m=\u001b[39m pd\u001b[38;5;241m.\u001b[39mget_dummies(df[x], drop_first \u001b[38;5;241m=\u001b[39m \u001b[38;5;28;01mTrue\u001b[39;00m)\u001b[38;5;241m.\u001b[39mastype(\u001b[38;5;28mint\u001b[39m)\n\u001b[0;32m      4\u001b[0m     df \u001b[38;5;241m=\u001b[39m pd\u001b[38;5;241m.\u001b[39mconcat([df, temp], axis \u001b[38;5;241m=\u001b[39m \u001b[38;5;241m1\u001b[39m)\n\u001b[0;32m      5\u001b[0m     df\u001b[38;5;241m.\u001b[39mdrop([x], axis \u001b[38;5;241m=\u001b[39m \u001b[38;5;241m1\u001b[39m, inplace \u001b[38;5;241m=\u001b[39m \u001b[38;5;28;01mTrue\u001b[39;00m)\n",
      "File \u001b[1;32mc:\\ProgramData\\anaconda3\\Lib\\site-packages\\pandas\\core\\frame.py:4102\u001b[0m, in \u001b[0;36mDataFrame.__getitem__\u001b[1;34m(self, key)\u001b[0m\n\u001b[0;32m   4100\u001b[0m \u001b[38;5;28;01mif\u001b[39;00m \u001b[38;5;28mself\u001b[39m\u001b[38;5;241m.\u001b[39mcolumns\u001b[38;5;241m.\u001b[39mnlevels \u001b[38;5;241m>\u001b[39m \u001b[38;5;241m1\u001b[39m:\n\u001b[0;32m   4101\u001b[0m     \u001b[38;5;28;01mreturn\u001b[39;00m \u001b[38;5;28mself\u001b[39m\u001b[38;5;241m.\u001b[39m_getitem_multilevel(key)\n\u001b[1;32m-> 4102\u001b[0m indexer \u001b[38;5;241m=\u001b[39m \u001b[38;5;28mself\u001b[39m\u001b[38;5;241m.\u001b[39mcolumns\u001b[38;5;241m.\u001b[39mget_loc(key)\n\u001b[0;32m   4103\u001b[0m \u001b[38;5;28;01mif\u001b[39;00m is_integer(indexer):\n\u001b[0;32m   4104\u001b[0m     indexer \u001b[38;5;241m=\u001b[39m [indexer]\n",
      "File \u001b[1;32mc:\\ProgramData\\anaconda3\\Lib\\site-packages\\pandas\\core\\indexes\\base.py:3812\u001b[0m, in \u001b[0;36mIndex.get_loc\u001b[1;34m(self, key)\u001b[0m\n\u001b[0;32m   3807\u001b[0m     \u001b[38;5;28;01mif\u001b[39;00m \u001b[38;5;28misinstance\u001b[39m(casted_key, \u001b[38;5;28mslice\u001b[39m) \u001b[38;5;129;01mor\u001b[39;00m (\n\u001b[0;32m   3808\u001b[0m         \u001b[38;5;28misinstance\u001b[39m(casted_key, abc\u001b[38;5;241m.\u001b[39mIterable)\n\u001b[0;32m   3809\u001b[0m         \u001b[38;5;129;01mand\u001b[39;00m \u001b[38;5;28many\u001b[39m(\u001b[38;5;28misinstance\u001b[39m(x, \u001b[38;5;28mslice\u001b[39m) \u001b[38;5;28;01mfor\u001b[39;00m x \u001b[38;5;129;01min\u001b[39;00m casted_key)\n\u001b[0;32m   3810\u001b[0m     ):\n\u001b[0;32m   3811\u001b[0m         \u001b[38;5;28;01mraise\u001b[39;00m InvalidIndexError(key)\n\u001b[1;32m-> 3812\u001b[0m     \u001b[38;5;28;01mraise\u001b[39;00m \u001b[38;5;167;01mKeyError\u001b[39;00m(key) \u001b[38;5;28;01mfrom\u001b[39;00m \u001b[38;5;21;01merr\u001b[39;00m\n\u001b[0;32m   3813\u001b[0m \u001b[38;5;28;01mexcept\u001b[39;00m \u001b[38;5;167;01mTypeError\u001b[39;00m:\n\u001b[0;32m   3814\u001b[0m     \u001b[38;5;66;03m# If we have a listlike key, _check_indexing_error will raise\u001b[39;00m\n\u001b[0;32m   3815\u001b[0m     \u001b[38;5;66;03m#  InvalidIndexError. Otherwise we fall through and re-raise\u001b[39;00m\n\u001b[0;32m   3816\u001b[0m     \u001b[38;5;66;03m#  the TypeError.\u001b[39;00m\n\u001b[0;32m   3817\u001b[0m     \u001b[38;5;28mself\u001b[39m\u001b[38;5;241m.\u001b[39m_check_indexing_error(key)\n",
      "\u001b[1;31mKeyError\u001b[0m: 'mainroad'"
     ]
    }
   ],
   "source": [
    "# Defining the map function\n",
    "def dummies(x,df):\n",
    "    temp = pd.get_dummies(df[x], drop_first = True).astype(int)\n",
    "    df = pd.concat([df, temp], axis = 1)\n",
    "    df.drop([x], axis = 1, inplace = True)\n",
    "    return df\n",
    "# Applying the function to the df\n",
    "\n",
    "df = dummies('mainroad',df)\n",
    "df = dummies('guestroom',df)\n",
    "df = dummies('hotwaterheating',df)\n",
    "df = dummies('basement',df)\n",
    "df = dummies('airconditioning',df)\n",
    "df = dummies('prefarea',df)\n",
    "df = dummies('furnishingstatus',df)"
   ]
  },
  {
   "cell_type": "code",
   "execution_count": 48,
   "id": "8699c463",
   "metadata": {
    "execution": {
     "iopub.execute_input": "2023-12-07T15:56:06.976512Z",
     "iopub.status.busy": "2023-12-07T15:56:06.974760Z",
     "iopub.status.idle": "2023-12-07T15:56:06.993172Z",
     "shell.execute_reply": "2023-12-07T15:56:06.991914Z"
    },
    "papermill": {
     "duration": 0.060126,
     "end_time": "2023-12-07T15:56:06.995803",
     "exception": false,
     "start_time": "2023-12-07T15:56:06.935677",
     "status": "completed"
    },
    "tags": []
   },
   "outputs": [
    {
     "data": {
      "text/html": [
       "<div>\n",
       "<style scoped>\n",
       "    .dataframe tbody tr th:only-of-type {\n",
       "        vertical-align: middle;\n",
       "    }\n",
       "\n",
       "    .dataframe tbody tr th {\n",
       "        vertical-align: top;\n",
       "    }\n",
       "\n",
       "    .dataframe thead th {\n",
       "        text-align: right;\n",
       "    }\n",
       "</style>\n",
       "<table border=\"1\" class=\"dataframe\">\n",
       "  <thead>\n",
       "    <tr style=\"text-align: right;\">\n",
       "      <th></th>\n",
       "      <th>price</th>\n",
       "      <th>area</th>\n",
       "      <th>bedrooms</th>\n",
       "      <th>bathrooms</th>\n",
       "      <th>stories</th>\n",
       "      <th>parking</th>\n",
       "      <th>yes</th>\n",
       "      <th>yes</th>\n",
       "      <th>yes</th>\n",
       "      <th>yes</th>\n",
       "      <th>yes</th>\n",
       "      <th>yes</th>\n",
       "      <th>semi-furnished</th>\n",
       "      <th>unfurnished</th>\n",
       "    </tr>\n",
       "  </thead>\n",
       "  <tbody>\n",
       "    <tr>\n",
       "      <th>540</th>\n",
       "      <td>1820000</td>\n",
       "      <td>3000</td>\n",
       "      <td>2</td>\n",
       "      <td>1</td>\n",
       "      <td>1</td>\n",
       "      <td>2</td>\n",
       "      <td>1</td>\n",
       "      <td>0</td>\n",
       "      <td>0</td>\n",
       "      <td>1</td>\n",
       "      <td>0</td>\n",
       "      <td>0</td>\n",
       "      <td>0</td>\n",
       "      <td>1</td>\n",
       "    </tr>\n",
       "    <tr>\n",
       "      <th>541</th>\n",
       "      <td>1767150</td>\n",
       "      <td>2400</td>\n",
       "      <td>3</td>\n",
       "      <td>1</td>\n",
       "      <td>1</td>\n",
       "      <td>0</td>\n",
       "      <td>0</td>\n",
       "      <td>0</td>\n",
       "      <td>0</td>\n",
       "      <td>0</td>\n",
       "      <td>0</td>\n",
       "      <td>0</td>\n",
       "      <td>1</td>\n",
       "      <td>0</td>\n",
       "    </tr>\n",
       "    <tr>\n",
       "      <th>542</th>\n",
       "      <td>1750000</td>\n",
       "      <td>3620</td>\n",
       "      <td>2</td>\n",
       "      <td>1</td>\n",
       "      <td>1</td>\n",
       "      <td>0</td>\n",
       "      <td>1</td>\n",
       "      <td>0</td>\n",
       "      <td>0</td>\n",
       "      <td>0</td>\n",
       "      <td>0</td>\n",
       "      <td>0</td>\n",
       "      <td>0</td>\n",
       "      <td>1</td>\n",
       "    </tr>\n",
       "    <tr>\n",
       "      <th>543</th>\n",
       "      <td>1750000</td>\n",
       "      <td>2910</td>\n",
       "      <td>3</td>\n",
       "      <td>1</td>\n",
       "      <td>1</td>\n",
       "      <td>0</td>\n",
       "      <td>0</td>\n",
       "      <td>0</td>\n",
       "      <td>0</td>\n",
       "      <td>0</td>\n",
       "      <td>0</td>\n",
       "      <td>0</td>\n",
       "      <td>0</td>\n",
       "      <td>0</td>\n",
       "    </tr>\n",
       "    <tr>\n",
       "      <th>544</th>\n",
       "      <td>1750000</td>\n",
       "      <td>3850</td>\n",
       "      <td>3</td>\n",
       "      <td>1</td>\n",
       "      <td>2</td>\n",
       "      <td>0</td>\n",
       "      <td>1</td>\n",
       "      <td>0</td>\n",
       "      <td>0</td>\n",
       "      <td>0</td>\n",
       "      <td>0</td>\n",
       "      <td>0</td>\n",
       "      <td>0</td>\n",
       "      <td>1</td>\n",
       "    </tr>\n",
       "  </tbody>\n",
       "</table>\n",
       "</div>"
      ],
      "text/plain": [
       "       price  area  bedrooms  bathrooms  stories  parking  yes  yes  yes  yes  \\\n",
       "540  1820000  3000         2          1        1        2    1    0    0    1   \n",
       "541  1767150  2400         3          1        1        0    0    0    0    0   \n",
       "542  1750000  3620         2          1        1        0    1    0    0    0   \n",
       "543  1750000  2910         3          1        1        0    0    0    0    0   \n",
       "544  1750000  3850         3          1        2        0    1    0    0    0   \n",
       "\n",
       "     yes  yes  semi-furnished  unfurnished  \n",
       "540    0    0               0            1  \n",
       "541    0    0               1            0  \n",
       "542    0    0               0            1  \n",
       "543    0    0               0            0  \n",
       "544    0    0               0            1  "
      ]
     },
     "execution_count": 48,
     "metadata": {},
     "output_type": "execute_result"
    }
   ],
   "source": [
    "df.tail()"
   ]
  },
  {
   "cell_type": "code",
   "execution_count": 49,
   "id": "022e260e",
   "metadata": {
    "execution": {
     "iopub.execute_input": "2023-12-07T15:56:07.071770Z",
     "iopub.status.busy": "2023-12-07T15:56:07.070562Z",
     "iopub.status.idle": "2023-12-07T15:56:07.078037Z",
     "shell.execute_reply": "2023-12-07T15:56:07.076834Z"
    },
    "papermill": {
     "duration": 0.047216,
     "end_time": "2023-12-07T15:56:07.080343",
     "exception": false,
     "start_time": "2023-12-07T15:56:07.033127",
     "status": "completed"
    },
    "tags": []
   },
   "outputs": [
    {
     "data": {
      "text/plain": [
       "(545, 14)"
      ]
     },
     "execution_count": 49,
     "metadata": {},
     "output_type": "execute_result"
    }
   ],
   "source": [
    "df.shape"
   ]
  },
  {
   "cell_type": "code",
   "execution_count": 50,
   "id": "821d96dd",
   "metadata": {
    "execution": {
     "iopub.execute_input": "2023-12-07T15:56:07.157605Z",
     "iopub.status.busy": "2023-12-07T15:56:07.156037Z",
     "iopub.status.idle": "2023-12-07T15:56:07.535465Z",
     "shell.execute_reply": "2023-12-07T15:56:07.534033Z"
    },
    "papermill": {
     "duration": 0.420219,
     "end_time": "2023-12-07T15:56:07.538401",
     "exception": false,
     "start_time": "2023-12-07T15:56:07.118182",
     "status": "completed"
    },
    "tags": []
   },
   "outputs": [],
   "source": [
    "from sklearn.model_selection import train_test_split\n",
    "\n",
    "np.random.seed(0)\n",
    "df_train, df_test = train_test_split(df, train_size = 0.75, test_size = 0.25, random_state = 100)"
   ]
  },
  {
   "cell_type": "code",
   "execution_count": 51,
   "id": "339d385f",
   "metadata": {
    "execution": {
     "iopub.execute_input": "2023-12-07T15:56:07.615923Z",
     "iopub.status.busy": "2023-12-07T15:56:07.615451Z",
     "iopub.status.idle": "2023-12-07T15:56:07.629038Z",
     "shell.execute_reply": "2023-12-07T15:56:07.627668Z"
    },
    "papermill": {
     "duration": 0.05656,
     "end_time": "2023-12-07T15:56:07.631859",
     "exception": false,
     "start_time": "2023-12-07T15:56:07.575299",
     "status": "completed"
    },
    "tags": []
   },
   "outputs": [],
   "source": [
    "from sklearn.preprocessing import MinMaxScaler\n",
    "\n",
    "scaler = MinMaxScaler()\n",
    "df_train[numerical_list] = scaler.fit_transform(df_train[numerical_list])"
   ]
  },
  {
   "cell_type": "code",
   "execution_count": 52,
   "id": "1a004ffd",
   "metadata": {
    "execution": {
     "iopub.execute_input": "2023-12-07T15:56:07.708905Z",
     "iopub.status.busy": "2023-12-07T15:56:07.708149Z",
     "iopub.status.idle": "2023-12-07T15:56:07.729464Z",
     "shell.execute_reply": "2023-12-07T15:56:07.727940Z"
    },
    "papermill": {
     "duration": 0.063314,
     "end_time": "2023-12-07T15:56:07.732672",
     "exception": false,
     "start_time": "2023-12-07T15:56:07.669358",
     "status": "completed"
    },
    "tags": []
   },
   "outputs": [
    {
     "data": {
      "text/html": [
       "<div>\n",
       "<style scoped>\n",
       "    .dataframe tbody tr th:only-of-type {\n",
       "        vertical-align: middle;\n",
       "    }\n",
       "\n",
       "    .dataframe tbody tr th {\n",
       "        vertical-align: top;\n",
       "    }\n",
       "\n",
       "    .dataframe thead th {\n",
       "        text-align: right;\n",
       "    }\n",
       "</style>\n",
       "<table border=\"1\" class=\"dataframe\">\n",
       "  <thead>\n",
       "    <tr style=\"text-align: right;\">\n",
       "      <th></th>\n",
       "      <th>price</th>\n",
       "      <th>area</th>\n",
       "      <th>bedrooms</th>\n",
       "      <th>bathrooms</th>\n",
       "      <th>stories</th>\n",
       "      <th>parking</th>\n",
       "      <th>yes</th>\n",
       "      <th>yes</th>\n",
       "      <th>yes</th>\n",
       "      <th>yes</th>\n",
       "      <th>yes</th>\n",
       "      <th>yes</th>\n",
       "      <th>semi-furnished</th>\n",
       "      <th>unfurnished</th>\n",
       "    </tr>\n",
       "  </thead>\n",
       "  <tbody>\n",
       "    <tr>\n",
       "      <th>333</th>\n",
       "      <td>0.187879</td>\n",
       "      <td>0.102429</td>\n",
       "      <td>0.4</td>\n",
       "      <td>0.0</td>\n",
       "      <td>0.333333</td>\n",
       "      <td>0.000000</td>\n",
       "      <td>1</td>\n",
       "      <td>0</td>\n",
       "      <td>0</td>\n",
       "      <td>0</td>\n",
       "      <td>0</td>\n",
       "      <td>0</td>\n",
       "      <td>1</td>\n",
       "      <td>0</td>\n",
       "    </tr>\n",
       "    <tr>\n",
       "      <th>429</th>\n",
       "      <td>0.136364</td>\n",
       "      <td>0.258624</td>\n",
       "      <td>0.6</td>\n",
       "      <td>0.0</td>\n",
       "      <td>0.333333</td>\n",
       "      <td>0.000000</td>\n",
       "      <td>1</td>\n",
       "      <td>0</td>\n",
       "      <td>0</td>\n",
       "      <td>0</td>\n",
       "      <td>0</td>\n",
       "      <td>0</td>\n",
       "      <td>0</td>\n",
       "      <td>1</td>\n",
       "    </tr>\n",
       "    <tr>\n",
       "      <th>18</th>\n",
       "      <td>0.618182</td>\n",
       "      <td>0.243224</td>\n",
       "      <td>0.4</td>\n",
       "      <td>0.5</td>\n",
       "      <td>0.333333</td>\n",
       "      <td>0.666667</td>\n",
       "      <td>1</td>\n",
       "      <td>1</td>\n",
       "      <td>0</td>\n",
       "      <td>0</td>\n",
       "      <td>1</td>\n",
       "      <td>0</td>\n",
       "      <td>0</td>\n",
       "      <td>0</td>\n",
       "    </tr>\n",
       "    <tr>\n",
       "      <th>480</th>\n",
       "      <td>0.103030</td>\n",
       "      <td>0.144667</td>\n",
       "      <td>0.4</td>\n",
       "      <td>0.0</td>\n",
       "      <td>0.333333</td>\n",
       "      <td>0.333333</td>\n",
       "      <td>0</td>\n",
       "      <td>0</td>\n",
       "      <td>0</td>\n",
       "      <td>0</td>\n",
       "      <td>0</td>\n",
       "      <td>0</td>\n",
       "      <td>1</td>\n",
       "      <td>0</td>\n",
       "    </tr>\n",
       "    <tr>\n",
       "      <th>505</th>\n",
       "      <td>0.078182</td>\n",
       "      <td>0.190426</td>\n",
       "      <td>0.4</td>\n",
       "      <td>0.0</td>\n",
       "      <td>0.333333</td>\n",
       "      <td>0.000000</td>\n",
       "      <td>1</td>\n",
       "      <td>0</td>\n",
       "      <td>0</td>\n",
       "      <td>0</td>\n",
       "      <td>1</td>\n",
       "      <td>0</td>\n",
       "      <td>0</td>\n",
       "      <td>1</td>\n",
       "    </tr>\n",
       "  </tbody>\n",
       "</table>\n",
       "</div>"
      ],
      "text/plain": [
       "        price      area  bedrooms  bathrooms   stories   parking  yes  yes  \\\n",
       "333  0.187879  0.102429       0.4        0.0  0.333333  0.000000    1    0   \n",
       "429  0.136364  0.258624       0.6        0.0  0.333333  0.000000    1    0   \n",
       "18   0.618182  0.243224       0.4        0.5  0.333333  0.666667    1    1   \n",
       "480  0.103030  0.144667       0.4        0.0  0.333333  0.333333    0    0   \n",
       "505  0.078182  0.190426       0.4        0.0  0.333333  0.000000    1    0   \n",
       "\n",
       "     yes  yes  yes  yes  semi-furnished  unfurnished  \n",
       "333    0    0    0    0               1            0  \n",
       "429    0    0    0    0               0            1  \n",
       "18     0    0    1    0               0            0  \n",
       "480    0    0    0    0               1            0  \n",
       "505    0    0    1    0               0            1  "
      ]
     },
     "execution_count": 52,
     "metadata": {},
     "output_type": "execute_result"
    }
   ],
   "source": [
    "df_train.head()"
   ]
  },
  {
   "cell_type": "code",
   "execution_count": 53,
   "id": "093285be",
   "metadata": {
    "execution": {
     "iopub.execute_input": "2023-12-07T15:56:07.809859Z",
     "iopub.status.busy": "2023-12-07T15:56:07.808811Z",
     "iopub.status.idle": "2023-12-07T15:56:07.815575Z",
     "shell.execute_reply": "2023-12-07T15:56:07.814563Z"
    },
    "papermill": {
     "duration": 0.04893,
     "end_time": "2023-12-07T15:56:07.818281",
     "exception": false,
     "start_time": "2023-12-07T15:56:07.769351",
     "status": "completed"
    },
    "tags": []
   },
   "outputs": [],
   "source": [
    "#Dividing data into X and y variables\n",
    "y_train = df_train.pop('price')\n",
    "X_train = df_train"
   ]
  },
  {
   "cell_type": "code",
   "execution_count": 54,
   "id": "281065d5",
   "metadata": {
    "execution": {
     "iopub.execute_input": "2023-12-07T15:56:07.896853Z",
     "iopub.status.busy": "2023-12-07T15:56:07.896005Z",
     "iopub.status.idle": "2023-12-07T15:56:10.293024Z",
     "shell.execute_reply": "2023-12-07T15:56:10.291675Z"
    },
    "papermill": {
     "duration": 2.440403,
     "end_time": "2023-12-07T15:56:10.296121",
     "exception": false,
     "start_time": "2023-12-07T15:56:07.855718",
     "status": "completed"
    },
    "tags": []
   },
   "outputs": [],
   "source": [
    "#RFE\n",
    "from sklearn.feature_selection import RFE\n",
    "from sklearn.linear_model import LinearRegression\n",
    "import statsmodels.api as sm \n",
    "from statsmodels.stats.outliers_influence import variance_inflation_factor"
   ]
  },
  {
   "cell_type": "markdown",
   "id": "05ce2a25",
   "metadata": {
    "papermill": {
     "duration": 0.036268,
     "end_time": "2023-12-07T15:56:10.368878",
     "exception": false,
     "start_time": "2023-12-07T15:56:10.332610",
     "status": "completed"
    },
    "tags": []
   },
   "source": [
    "![](https://dataunbox.com/wp-content/uploads/2020/06/model_building-800x445.png)"
   ]
  },
  {
   "cell_type": "code",
   "execution_count": 55,
   "id": "5ebe18f7",
   "metadata": {
    "execution": {
     "iopub.execute_input": "2023-12-07T15:56:10.448004Z",
     "iopub.status.busy": "2023-12-07T15:56:10.447030Z",
     "iopub.status.idle": "2023-12-07T15:56:10.486229Z",
     "shell.execute_reply": "2023-12-07T15:56:10.485260Z"
    },
    "papermill": {
     "duration": 0.08129,
     "end_time": "2023-12-07T15:56:10.488994",
     "exception": false,
     "start_time": "2023-12-07T15:56:10.407704",
     "status": "completed"
    },
    "tags": []
   },
   "outputs": [],
   "source": [
    "#lm = LinearRegression()\n",
    "#lm.fit(X_train,y_train)\n",
    "rfe = RFE(estimator=LinearRegression(), n_features_to_select=10)\n",
    "rfe = rfe.fit(X_train, y_train)"
   ]
  },
  {
   "cell_type": "code",
   "execution_count": 56,
   "id": "77191fb9",
   "metadata": {
    "execution": {
     "iopub.execute_input": "2023-12-07T15:56:10.566518Z",
     "iopub.status.busy": "2023-12-07T15:56:10.566039Z",
     "iopub.status.idle": "2023-12-07T15:56:10.574127Z",
     "shell.execute_reply": "2023-12-07T15:56:10.573269Z"
    },
    "papermill": {
     "duration": 0.050389,
     "end_time": "2023-12-07T15:56:10.576525",
     "exception": false,
     "start_time": "2023-12-07T15:56:10.526136",
     "status": "completed"
    },
    "tags": []
   },
   "outputs": [
    {
     "data": {
      "text/plain": [
       "[('area', True, 1),\n",
       " ('bedrooms', True, 1),\n",
       " ('bathrooms', True, 1),\n",
       " ('stories', True, 1),\n",
       " ('parking', True, 1),\n",
       " ('yes', True, 1),\n",
       " ('yes', True, 1),\n",
       " ('yes', True, 1),\n",
       " ('yes', False, 3),\n",
       " ('yes', True, 1),\n",
       " ('yes', True, 1),\n",
       " ('semi-furnished', False, 4),\n",
       " ('unfurnished', False, 2)]"
      ]
     },
     "execution_count": 56,
     "metadata": {},
     "output_type": "execute_result"
    }
   ],
   "source": [
    "list(zip(X_train.columns,rfe.support_,rfe.ranking_))"
   ]
  },
  {
   "cell_type": "code",
   "execution_count": 57,
   "id": "91369c17",
   "metadata": {
    "execution": {
     "iopub.execute_input": "2023-12-07T15:56:10.654548Z",
     "iopub.status.busy": "2023-12-07T15:56:10.653746Z",
     "iopub.status.idle": "2023-12-07T15:56:10.661424Z",
     "shell.execute_reply": "2023-12-07T15:56:10.660298Z"
    },
    "papermill": {
     "duration": 0.049472,
     "end_time": "2023-12-07T15:56:10.663724",
     "exception": false,
     "start_time": "2023-12-07T15:56:10.614252",
     "status": "completed"
    },
    "tags": []
   },
   "outputs": [
    {
     "data": {
      "text/plain": [
       "Index(['area', 'bedrooms', 'bathrooms', 'stories', 'parking', 'yes', 'yes',\n",
       "       'yes', 'yes', 'yes'],\n",
       "      dtype='object')"
      ]
     },
     "execution_count": 57,
     "metadata": {},
     "output_type": "execute_result"
    }
   ],
   "source": [
    "X_train.columns[rfe.support_]"
   ]
  },
  {
   "cell_type": "code",
   "execution_count": 58,
   "id": "c7a104e9",
   "metadata": {
    "execution": {
     "iopub.execute_input": "2023-12-07T15:56:10.741231Z",
     "iopub.status.busy": "2023-12-07T15:56:10.740381Z",
     "iopub.status.idle": "2023-12-07T15:56:10.769927Z",
     "shell.execute_reply": "2023-12-07T15:56:10.768522Z"
    },
    "papermill": {
     "duration": 0.072021,
     "end_time": "2023-12-07T15:56:10.772725",
     "exception": false,
     "start_time": "2023-12-07T15:56:10.700704",
     "status": "completed"
    },
    "tags": []
   },
   "outputs": [
    {
     "data": {
      "text/html": [
       "<div>\n",
       "<style scoped>\n",
       "    .dataframe tbody tr th:only-of-type {\n",
       "        vertical-align: middle;\n",
       "    }\n",
       "\n",
       "    .dataframe tbody tr th {\n",
       "        vertical-align: top;\n",
       "    }\n",
       "\n",
       "    .dataframe thead th {\n",
       "        text-align: right;\n",
       "    }\n",
       "</style>\n",
       "<table border=\"1\" class=\"dataframe\">\n",
       "  <thead>\n",
       "    <tr style=\"text-align: right;\">\n",
       "      <th></th>\n",
       "      <th>area</th>\n",
       "      <th>bedrooms</th>\n",
       "      <th>bathrooms</th>\n",
       "      <th>stories</th>\n",
       "      <th>parking</th>\n",
       "      <th>yes</th>\n",
       "      <th>yes</th>\n",
       "      <th>yes</th>\n",
       "      <th>yes</th>\n",
       "      <th>yes</th>\n",
       "      <th>...</th>\n",
       "      <th>yes</th>\n",
       "      <th>yes</th>\n",
       "      <th>yes</th>\n",
       "      <th>yes</th>\n",
       "      <th>yes</th>\n",
       "      <th>yes</th>\n",
       "      <th>yes</th>\n",
       "      <th>yes</th>\n",
       "      <th>yes</th>\n",
       "      <th>yes</th>\n",
       "    </tr>\n",
       "  </thead>\n",
       "  <tbody>\n",
       "    <tr>\n",
       "      <th>333</th>\n",
       "      <td>0.102429</td>\n",
       "      <td>0.4</td>\n",
       "      <td>0.0</td>\n",
       "      <td>0.333333</td>\n",
       "      <td>0.000000</td>\n",
       "      <td>1</td>\n",
       "      <td>0</td>\n",
       "      <td>0</td>\n",
       "      <td>0</td>\n",
       "      <td>0</td>\n",
       "      <td>...</td>\n",
       "      <td>0</td>\n",
       "      <td>0</td>\n",
       "      <td>0</td>\n",
       "      <td>0</td>\n",
       "      <td>1</td>\n",
       "      <td>0</td>\n",
       "      <td>0</td>\n",
       "      <td>0</td>\n",
       "      <td>0</td>\n",
       "      <td>0</td>\n",
       "    </tr>\n",
       "    <tr>\n",
       "      <th>429</th>\n",
       "      <td>0.258624</td>\n",
       "      <td>0.6</td>\n",
       "      <td>0.0</td>\n",
       "      <td>0.333333</td>\n",
       "      <td>0.000000</td>\n",
       "      <td>1</td>\n",
       "      <td>0</td>\n",
       "      <td>0</td>\n",
       "      <td>0</td>\n",
       "      <td>0</td>\n",
       "      <td>...</td>\n",
       "      <td>0</td>\n",
       "      <td>0</td>\n",
       "      <td>0</td>\n",
       "      <td>0</td>\n",
       "      <td>1</td>\n",
       "      <td>0</td>\n",
       "      <td>0</td>\n",
       "      <td>0</td>\n",
       "      <td>0</td>\n",
       "      <td>0</td>\n",
       "    </tr>\n",
       "    <tr>\n",
       "      <th>18</th>\n",
       "      <td>0.243224</td>\n",
       "      <td>0.4</td>\n",
       "      <td>0.5</td>\n",
       "      <td>0.333333</td>\n",
       "      <td>0.666667</td>\n",
       "      <td>1</td>\n",
       "      <td>1</td>\n",
       "      <td>0</td>\n",
       "      <td>0</td>\n",
       "      <td>1</td>\n",
       "      <td>...</td>\n",
       "      <td>0</td>\n",
       "      <td>0</td>\n",
       "      <td>1</td>\n",
       "      <td>0</td>\n",
       "      <td>1</td>\n",
       "      <td>1</td>\n",
       "      <td>0</td>\n",
       "      <td>0</td>\n",
       "      <td>1</td>\n",
       "      <td>0</td>\n",
       "    </tr>\n",
       "    <tr>\n",
       "      <th>480</th>\n",
       "      <td>0.144667</td>\n",
       "      <td>0.4</td>\n",
       "      <td>0.0</td>\n",
       "      <td>0.333333</td>\n",
       "      <td>0.333333</td>\n",
       "      <td>0</td>\n",
       "      <td>0</td>\n",
       "      <td>0</td>\n",
       "      <td>0</td>\n",
       "      <td>0</td>\n",
       "      <td>...</td>\n",
       "      <td>0</td>\n",
       "      <td>0</td>\n",
       "      <td>0</td>\n",
       "      <td>0</td>\n",
       "      <td>0</td>\n",
       "      <td>0</td>\n",
       "      <td>0</td>\n",
       "      <td>0</td>\n",
       "      <td>0</td>\n",
       "      <td>0</td>\n",
       "    </tr>\n",
       "    <tr>\n",
       "      <th>505</th>\n",
       "      <td>0.190426</td>\n",
       "      <td>0.4</td>\n",
       "      <td>0.0</td>\n",
       "      <td>0.333333</td>\n",
       "      <td>0.000000</td>\n",
       "      <td>1</td>\n",
       "      <td>0</td>\n",
       "      <td>0</td>\n",
       "      <td>0</td>\n",
       "      <td>1</td>\n",
       "      <td>...</td>\n",
       "      <td>0</td>\n",
       "      <td>0</td>\n",
       "      <td>1</td>\n",
       "      <td>0</td>\n",
       "      <td>1</td>\n",
       "      <td>0</td>\n",
       "      <td>0</td>\n",
       "      <td>0</td>\n",
       "      <td>1</td>\n",
       "      <td>0</td>\n",
       "    </tr>\n",
       "  </tbody>\n",
       "</table>\n",
       "<p>5 rows × 35 columns</p>\n",
       "</div>"
      ],
      "text/plain": [
       "         area  bedrooms  bathrooms   stories   parking  yes  yes  yes  yes  \\\n",
       "333  0.102429       0.4        0.0  0.333333  0.000000    1    0    0    0   \n",
       "429  0.258624       0.6        0.0  0.333333  0.000000    1    0    0    0   \n",
       "18   0.243224       0.4        0.5  0.333333  0.666667    1    1    0    0   \n",
       "480  0.144667       0.4        0.0  0.333333  0.333333    0    0    0    0   \n",
       "505  0.190426       0.4        0.0  0.333333  0.000000    1    0    0    0   \n",
       "\n",
       "     yes  ...  yes  yes  yes  yes  yes  yes  yes  yes  yes  yes  \n",
       "333    0  ...    0    0    0    0    1    0    0    0    0    0  \n",
       "429    0  ...    0    0    0    0    1    0    0    0    0    0  \n",
       "18     1  ...    0    0    1    0    1    1    0    0    1    0  \n",
       "480    0  ...    0    0    0    0    0    0    0    0    0    0  \n",
       "505    1  ...    0    0    1    0    1    0    0    0    1    0  \n",
       "\n",
       "[5 rows x 35 columns]"
      ]
     },
     "execution_count": 58,
     "metadata": {},
     "output_type": "execute_result"
    }
   ],
   "source": [
    "X_train_rfe = X_train[X_train.columns[rfe.support_]]\n",
    "X_train_rfe.head()"
   ]
  },
  {
   "cell_type": "code",
   "execution_count": 59,
   "id": "e5211837",
   "metadata": {
    "execution": {
     "iopub.execute_input": "2023-12-07T15:56:10.854475Z",
     "iopub.status.busy": "2023-12-07T15:56:10.853986Z",
     "iopub.status.idle": "2023-12-07T15:56:10.862708Z",
     "shell.execute_reply": "2023-12-07T15:56:10.861409Z"
    },
    "papermill": {
     "duration": 0.054345,
     "end_time": "2023-12-07T15:56:10.865885",
     "exception": false,
     "start_time": "2023-12-07T15:56:10.811540",
     "status": "completed"
    },
    "tags": []
   },
   "outputs": [],
   "source": [
    "def build_model(X,y):\n",
    "    X = sm.add_constant(X) #Adding the constant for intercept\n",
    "    lm = sm.OLS(y,X).fit() # fitting the model\n",
    "    print(lm.summary()) # model summary\n",
    "    return X\n",
    "    \n",
    "def checkVIF(X):\n",
    "    vif = pd.DataFrame()\n",
    "    vif['Features'] = X.columns\n",
    "    vif['VIF'] = [variance_inflation_factor(X.values, i) for i in range(X.shape[1])]\n",
    "    vif['VIF'] = round(vif['VIF'], 2)\n",
    "    vif = vif.sort_values(by = \"VIF\", ascending = False)\n",
    "    return(vif)"
   ]
  },
  {
   "cell_type": "markdown",
   "id": "d5930ce7",
   "metadata": {
    "papermill": {
     "duration": 0.038249,
     "end_time": "2023-12-07T15:56:10.943875",
     "exception": false,
     "start_time": "2023-12-07T15:56:10.905626",
     "status": "completed"
    },
    "tags": []
   },
   "source": [
    "MODEL 1"
   ]
  },
  {
   "cell_type": "code",
   "execution_count": 60,
   "id": "43bd1d74",
   "metadata": {
    "execution": {
     "iopub.execute_input": "2023-12-07T15:56:11.024497Z",
     "iopub.status.busy": "2023-12-07T15:56:11.024033Z",
     "iopub.status.idle": "2023-12-07T15:56:11.115570Z",
     "shell.execute_reply": "2023-12-07T15:56:11.114261Z"
    },
    "papermill": {
     "duration": 0.138438,
     "end_time": "2023-12-07T15:56:11.121893",
     "exception": false,
     "start_time": "2023-12-07T15:56:10.983455",
     "status": "completed"
    },
    "tags": []
   },
   "outputs": [
    {
     "name": "stdout",
     "output_type": "stream",
     "text": [
      "                            OLS Regression Results                            \n",
      "==============================================================================\n",
      "Dep. Variable:                  price   R-squared:                       0.658\n",
      "Model:                            OLS   Adj. R-squared:                  0.649\n",
      "Method:                 Least Squares   F-statistic:                     69.41\n",
      "Date:                Sun, 30 Mar 2025   Prob (F-statistic):           2.81e-85\n",
      "Time:                        18:43:27   Log-Likelihood:                 396.09\n",
      "No. Observations:                 408   AIC:                            -768.2\n",
      "Df Residuals:                     396   BIC:                            -720.0\n",
      "Df Model:                          11                                         \n",
      "Covariance Type:            nonrobust                                         \n",
      "==============================================================================\n",
      "                 coef    std err          t      P>|t|      [0.025      0.975]\n",
      "------------------------------------------------------------------------------\n",
      "const          0.0033      0.018      0.185      0.853      -0.032       0.039\n",
      "area           0.2312      0.029      8.025      0.000       0.175       0.288\n",
      "bedrooms       0.0480      0.037      1.306      0.192      -0.024       0.120\n",
      "bathrooms      0.1969      0.022      8.958      0.000       0.154       0.240\n",
      "stories        0.1049      0.019      5.485      0.000       0.067       0.142\n",
      "parking        0.0662      0.018      3.681      0.000       0.031       0.102\n",
      "yes            0.0106      0.003      3.697      0.000       0.005       0.016\n",
      "yes            0.0057      0.003      2.114      0.035       0.000       0.011\n",
      "yes            0.0150      0.004      3.597      0.000       0.007       0.023\n",
      "yes            0.0045      0.002      2.030      0.043       0.000       0.009\n",
      "yes            0.0152      0.002      6.865      0.000       0.011       0.020\n",
      "yes            0.0115      0.002      4.995      0.000       0.007       0.016\n",
      "yes            0.0106      0.003      3.697      0.000       0.005       0.016\n",
      "yes            0.0057      0.003      2.114      0.035       0.000       0.011\n",
      "yes            0.0150      0.004      3.597      0.000       0.007       0.023\n",
      "yes            0.0045      0.002      2.030      0.043       0.000       0.009\n",
      "yes            0.0152      0.002      6.865      0.000       0.011       0.020\n",
      "yes            0.0115      0.002      4.995      0.000       0.007       0.016\n",
      "yes            0.0106      0.003      3.697      0.000       0.005       0.016\n",
      "yes            0.0057      0.003      2.114      0.035       0.000       0.011\n",
      "yes            0.0150      0.004      3.597      0.000       0.007       0.023\n",
      "yes            0.0045      0.002      2.030      0.043       0.000       0.009\n",
      "yes            0.0152      0.002      6.865      0.000       0.011       0.020\n",
      "yes            0.0115      0.002      4.995      0.000       0.007       0.016\n",
      "yes            0.0106      0.003      3.697      0.000       0.005       0.016\n",
      "yes            0.0057      0.003      2.114      0.035       0.000       0.011\n",
      "yes            0.0150      0.004      3.597      0.000       0.007       0.023\n",
      "yes            0.0045      0.002      2.030      0.043       0.000       0.009\n",
      "yes            0.0152      0.002      6.865      0.000       0.011       0.020\n",
      "yes            0.0115      0.002      4.995      0.000       0.007       0.016\n",
      "yes            0.0106      0.003      3.697      0.000       0.005       0.016\n",
      "yes            0.0057      0.003      2.114      0.035       0.000       0.011\n",
      "yes            0.0150      0.004      3.597      0.000       0.007       0.023\n",
      "yes            0.0045      0.002      2.030      0.043       0.000       0.009\n",
      "yes            0.0152      0.002      6.865      0.000       0.011       0.020\n",
      "yes            0.0115      0.002      4.995      0.000       0.007       0.016\n",
      "==============================================================================\n",
      "Omnibus:                       82.408   Durbin-Watson:                   2.064\n",
      "Prob(Omnibus):                  0.000   Jarque-Bera (JB):              250.736\n",
      "Skew:                           0.921   Prob(JB):                     3.58e-55\n",
      "Kurtosis:                       6.370   Cond. No.                     1.15e+16\n",
      "==============================================================================\n",
      "\n",
      "Notes:\n",
      "[1] Standard Errors assume that the covariance matrix of the errors is correctly specified.\n",
      "[2] The smallest eigenvalue is 2.27e-29. This might indicate that there are\n",
      "strong multicollinearity problems or that the design matrix is singular.\n"
     ]
    }
   ],
   "source": [
    "X_train_new = build_model(X_train_rfe,y_train)"
   ]
  },
  {
   "cell_type": "markdown",
   "id": "9d6e2357",
   "metadata": {
    "papermill": {
     "duration": 0.044614,
     "end_time": "2023-12-07T15:56:11.239416",
     "exception": false,
     "start_time": "2023-12-07T15:56:11.194802",
     "status": "completed"
    },
    "tags": []
   },
   "source": [
    "Dropping Bedrooms column as it has p values much greater than significant value of 0.05"
   ]
  },
  {
   "cell_type": "code",
   "execution_count": 61,
   "id": "d6ad14d0",
   "metadata": {
    "execution": {
     "iopub.execute_input": "2023-12-07T15:56:11.322353Z",
     "iopub.status.busy": "2023-12-07T15:56:11.321839Z",
     "iopub.status.idle": "2023-12-07T15:56:11.329682Z",
     "shell.execute_reply": "2023-12-07T15:56:11.328298Z"
    },
    "papermill": {
     "duration": 0.05278,
     "end_time": "2023-12-07T15:56:11.332602",
     "exception": false,
     "start_time": "2023-12-07T15:56:11.279822",
     "status": "completed"
    },
    "tags": []
   },
   "outputs": [],
   "source": [
    "X_train_new = X_train_new.drop([\"bedrooms\"], axis = 1)"
   ]
  },
  {
   "cell_type": "markdown",
   "id": "18e50cb6",
   "metadata": {
    "papermill": {
     "duration": 0.037978,
     "end_time": "2023-12-07T15:56:11.410081",
     "exception": false,
     "start_time": "2023-12-07T15:56:11.372103",
     "status": "completed"
    },
    "tags": []
   },
   "source": [
    "Model 2"
   ]
  },
  {
   "cell_type": "code",
   "execution_count": 62,
   "id": "e680bae1",
   "metadata": {
    "execution": {
     "iopub.execute_input": "2023-12-07T15:56:11.489112Z",
     "iopub.status.busy": "2023-12-07T15:56:11.488204Z",
     "iopub.status.idle": "2023-12-07T15:56:11.568979Z",
     "shell.execute_reply": "2023-12-07T15:56:11.567268Z"
    },
    "papermill": {
     "duration": 0.126508,
     "end_time": "2023-12-07T15:56:11.574444",
     "exception": false,
     "start_time": "2023-12-07T15:56:11.447936",
     "status": "completed"
    },
    "tags": []
   },
   "outputs": [
    {
     "name": "stdout",
     "output_type": "stream",
     "text": [
      "                            OLS Regression Results                            \n",
      "==============================================================================\n",
      "Dep. Variable:                  price   R-squared:                       0.657\n",
      "Model:                            OLS   Adj. R-squared:                  0.648\n",
      "Method:                 Least Squares   F-statistic:                     76.05\n",
      "Date:                Sun, 30 Mar 2025   Prob (F-statistic):           7.27e-86\n",
      "Time:                        18:43:32   Log-Likelihood:                 395.21\n",
      "No. Observations:                 408   AIC:                            -768.4\n",
      "Df Residuals:                     397   BIC:                            -724.3\n",
      "Df Model:                          10                                         \n",
      "Covariance Type:            nonrobust                                         \n",
      "==============================================================================\n",
      "                 coef    std err          t      P>|t|      [0.025      0.975]\n",
      "------------------------------------------------------------------------------\n",
      "const          0.0183      0.014      1.332      0.184      -0.009       0.045\n",
      "area           0.2323      0.029      8.060      0.000       0.176       0.289\n",
      "bathrooms      0.2031      0.021      9.448      0.000       0.161       0.245\n",
      "stories        0.1141      0.018      6.418      0.000       0.079       0.149\n",
      "parking        0.0684      0.018      3.814      0.000       0.033       0.104\n",
      "yes            0.0103      0.003      3.599      0.000       0.005       0.016\n",
      "yes            0.0057      0.003      2.089      0.037       0.000       0.011\n",
      "yes            0.0152      0.004      3.643      0.000       0.007       0.023\n",
      "yes            0.0050      0.002      2.272      0.024       0.001       0.009\n",
      "yes            0.0151      0.002      6.829      0.000       0.011       0.019\n",
      "yes            0.0115      0.002      4.980      0.000       0.007       0.016\n",
      "yes            0.0103      0.003      3.599      0.000       0.005       0.016\n",
      "yes            0.0057      0.003      2.089      0.037       0.000       0.011\n",
      "yes            0.0152      0.004      3.643      0.000       0.007       0.023\n",
      "yes            0.0050      0.002      2.272      0.024       0.001       0.009\n",
      "yes            0.0151      0.002      6.829      0.000       0.011       0.019\n",
      "yes            0.0115      0.002      4.980      0.000       0.007       0.016\n",
      "yes            0.0103      0.003      3.599      0.000       0.005       0.016\n",
      "yes            0.0057      0.003      2.089      0.037       0.000       0.011\n",
      "yes            0.0152      0.004      3.643      0.000       0.007       0.023\n",
      "yes            0.0050      0.002      2.272      0.024       0.001       0.009\n",
      "yes            0.0151      0.002      6.829      0.000       0.011       0.019\n",
      "yes            0.0115      0.002      4.980      0.000       0.007       0.016\n",
      "yes            0.0103      0.003      3.599      0.000       0.005       0.016\n",
      "yes            0.0057      0.003      2.089      0.037       0.000       0.011\n",
      "yes            0.0152      0.004      3.643      0.000       0.007       0.023\n",
      "yes            0.0050      0.002      2.272      0.024       0.001       0.009\n",
      "yes            0.0151      0.002      6.829      0.000       0.011       0.019\n",
      "yes            0.0115      0.002      4.980      0.000       0.007       0.016\n",
      "yes            0.0103      0.003      3.599      0.000       0.005       0.016\n",
      "yes            0.0057      0.003      2.089      0.037       0.000       0.011\n",
      "yes            0.0152      0.004      3.643      0.000       0.007       0.023\n",
      "yes            0.0050      0.002      2.272      0.024       0.001       0.009\n",
      "yes            0.0151      0.002      6.829      0.000       0.011       0.019\n",
      "yes            0.0115      0.002      4.980      0.000       0.007       0.016\n",
      "==============================================================================\n",
      "Omnibus:                       86.690   Durbin-Watson:                   2.065\n",
      "Prob(Omnibus):                  0.000   Jarque-Bera (JB):              270.330\n",
      "Skew:                           0.961   Prob(JB):                     1.99e-59\n",
      "Kurtosis:                       6.494   Cond. No.                     1.28e+16\n",
      "==============================================================================\n",
      "\n",
      "Notes:\n",
      "[1] Standard Errors assume that the covariance matrix of the errors is correctly specified.\n",
      "[2] The smallest eigenvalue is 1.81e-29. This might indicate that there are\n",
      "strong multicollinearity problems or that the design matrix is singular.\n"
     ]
    }
   ],
   "source": [
    "X_train_new = build_model(X_train_new,y_train)"
   ]
  },
  {
   "cell_type": "code",
   "execution_count": 63,
   "id": "5cc92faa",
   "metadata": {
    "execution": {
     "iopub.execute_input": "2023-12-07T15:56:11.687571Z",
     "iopub.status.busy": "2023-12-07T15:56:11.687119Z",
     "iopub.status.idle": "2023-12-07T15:56:11.881822Z",
     "shell.execute_reply": "2023-12-07T15:56:11.880018Z"
    },
    "papermill": {
     "duration": 0.241788,
     "end_time": "2023-12-07T15:56:11.888555",
     "exception": false,
     "start_time": "2023-12-07T15:56:11.646767",
     "status": "completed"
    },
    "tags": []
   },
   "outputs": [
    {
     "data": {
      "text/html": [
       "<div>\n",
       "<style scoped>\n",
       "    .dataframe tbody tr th:only-of-type {\n",
       "        vertical-align: middle;\n",
       "    }\n",
       "\n",
       "    .dataframe tbody tr th {\n",
       "        vertical-align: top;\n",
       "    }\n",
       "\n",
       "    .dataframe thead th {\n",
       "        text-align: right;\n",
       "    }\n",
       "</style>\n",
       "<table border=\"1\" class=\"dataframe\">\n",
       "  <thead>\n",
       "    <tr style=\"text-align: right;\">\n",
       "      <th></th>\n",
       "      <th>Features</th>\n",
       "      <th>VIF</th>\n",
       "    </tr>\n",
       "  </thead>\n",
       "  <tbody>\n",
       "    <tr>\n",
       "      <th>17</th>\n",
       "      <td>yes</td>\n",
       "      <td>inf</td>\n",
       "    </tr>\n",
       "    <tr>\n",
       "      <th>26</th>\n",
       "      <td>yes</td>\n",
       "      <td>inf</td>\n",
       "    </tr>\n",
       "    <tr>\n",
       "      <th>20</th>\n",
       "      <td>yes</td>\n",
       "      <td>inf</td>\n",
       "    </tr>\n",
       "    <tr>\n",
       "      <th>21</th>\n",
       "      <td>yes</td>\n",
       "      <td>inf</td>\n",
       "    </tr>\n",
       "    <tr>\n",
       "      <th>22</th>\n",
       "      <td>yes</td>\n",
       "      <td>inf</td>\n",
       "    </tr>\n",
       "    <tr>\n",
       "      <th>23</th>\n",
       "      <td>yes</td>\n",
       "      <td>inf</td>\n",
       "    </tr>\n",
       "    <tr>\n",
       "      <th>24</th>\n",
       "      <td>yes</td>\n",
       "      <td>inf</td>\n",
       "    </tr>\n",
       "    <tr>\n",
       "      <th>25</th>\n",
       "      <td>yes</td>\n",
       "      <td>inf</td>\n",
       "    </tr>\n",
       "    <tr>\n",
       "      <th>27</th>\n",
       "      <td>yes</td>\n",
       "      <td>inf</td>\n",
       "    </tr>\n",
       "    <tr>\n",
       "      <th>18</th>\n",
       "      <td>yes</td>\n",
       "      <td>inf</td>\n",
       "    </tr>\n",
       "    <tr>\n",
       "      <th>28</th>\n",
       "      <td>yes</td>\n",
       "      <td>inf</td>\n",
       "    </tr>\n",
       "    <tr>\n",
       "      <th>29</th>\n",
       "      <td>yes</td>\n",
       "      <td>inf</td>\n",
       "    </tr>\n",
       "    <tr>\n",
       "      <th>30</th>\n",
       "      <td>yes</td>\n",
       "      <td>inf</td>\n",
       "    </tr>\n",
       "    <tr>\n",
       "      <th>31</th>\n",
       "      <td>yes</td>\n",
       "      <td>inf</td>\n",
       "    </tr>\n",
       "    <tr>\n",
       "      <th>32</th>\n",
       "      <td>yes</td>\n",
       "      <td>inf</td>\n",
       "    </tr>\n",
       "    <tr>\n",
       "      <th>33</th>\n",
       "      <td>yes</td>\n",
       "      <td>inf</td>\n",
       "    </tr>\n",
       "    <tr>\n",
       "      <th>19</th>\n",
       "      <td>yes</td>\n",
       "      <td>inf</td>\n",
       "    </tr>\n",
       "    <tr>\n",
       "      <th>34</th>\n",
       "      <td>yes</td>\n",
       "      <td>inf</td>\n",
       "    </tr>\n",
       "    <tr>\n",
       "      <th>9</th>\n",
       "      <td>yes</td>\n",
       "      <td>inf</td>\n",
       "    </tr>\n",
       "    <tr>\n",
       "      <th>5</th>\n",
       "      <td>yes</td>\n",
       "      <td>inf</td>\n",
       "    </tr>\n",
       "    <tr>\n",
       "      <th>15</th>\n",
       "      <td>yes</td>\n",
       "      <td>inf</td>\n",
       "    </tr>\n",
       "    <tr>\n",
       "      <th>14</th>\n",
       "      <td>yes</td>\n",
       "      <td>inf</td>\n",
       "    </tr>\n",
       "    <tr>\n",
       "      <th>13</th>\n",
       "      <td>yes</td>\n",
       "      <td>inf</td>\n",
       "    </tr>\n",
       "    <tr>\n",
       "      <th>12</th>\n",
       "      <td>yes</td>\n",
       "      <td>inf</td>\n",
       "    </tr>\n",
       "    <tr>\n",
       "      <th>11</th>\n",
       "      <td>yes</td>\n",
       "      <td>inf</td>\n",
       "    </tr>\n",
       "    <tr>\n",
       "      <th>10</th>\n",
       "      <td>yes</td>\n",
       "      <td>inf</td>\n",
       "    </tr>\n",
       "    <tr>\n",
       "      <th>16</th>\n",
       "      <td>yes</td>\n",
       "      <td>inf</td>\n",
       "    </tr>\n",
       "    <tr>\n",
       "      <th>8</th>\n",
       "      <td>yes</td>\n",
       "      <td>inf</td>\n",
       "    </tr>\n",
       "    <tr>\n",
       "      <th>7</th>\n",
       "      <td>yes</td>\n",
       "      <td>inf</td>\n",
       "    </tr>\n",
       "    <tr>\n",
       "      <th>6</th>\n",
       "      <td>yes</td>\n",
       "      <td>3.400932e+08</td>\n",
       "    </tr>\n",
       "    <tr>\n",
       "      <th>0</th>\n",
       "      <td>const</td>\n",
       "      <td>8.910000e+00</td>\n",
       "    </tr>\n",
       "    <tr>\n",
       "      <th>1</th>\n",
       "      <td>area</td>\n",
       "      <td>1.330000e+00</td>\n",
       "    </tr>\n",
       "    <tr>\n",
       "      <th>3</th>\n",
       "      <td>stories</td>\n",
       "      <td>1.270000e+00</td>\n",
       "    </tr>\n",
       "    <tr>\n",
       "      <th>4</th>\n",
       "      <td>parking</td>\n",
       "      <td>1.220000e+00</td>\n",
       "    </tr>\n",
       "    <tr>\n",
       "      <th>2</th>\n",
       "      <td>bathrooms</td>\n",
       "      <td>1.210000e+00</td>\n",
       "    </tr>\n",
       "  </tbody>\n",
       "</table>\n",
       "</div>"
      ],
      "text/plain": [
       "     Features           VIF\n",
       "17        yes           inf\n",
       "26        yes           inf\n",
       "20        yes           inf\n",
       "21        yes           inf\n",
       "22        yes           inf\n",
       "23        yes           inf\n",
       "24        yes           inf\n",
       "25        yes           inf\n",
       "27        yes           inf\n",
       "18        yes           inf\n",
       "28        yes           inf\n",
       "29        yes           inf\n",
       "30        yes           inf\n",
       "31        yes           inf\n",
       "32        yes           inf\n",
       "33        yes           inf\n",
       "19        yes           inf\n",
       "34        yes           inf\n",
       "9         yes           inf\n",
       "5         yes           inf\n",
       "15        yes           inf\n",
       "14        yes           inf\n",
       "13        yes           inf\n",
       "12        yes           inf\n",
       "11        yes           inf\n",
       "10        yes           inf\n",
       "16        yes           inf\n",
       "8         yes           inf\n",
       "7         yes           inf\n",
       "6         yes  3.400932e+08\n",
       "0       const  8.910000e+00\n",
       "1        area  1.330000e+00\n",
       "3     stories  1.270000e+00\n",
       "4     parking  1.220000e+00\n",
       "2   bathrooms  1.210000e+00"
      ]
     },
     "execution_count": 63,
     "metadata": {},
     "output_type": "execute_result"
    }
   ],
   "source": [
    "#Calculating the Variance Inflation Factor\n",
    "checkVIF(X_train_new)"
   ]
  },
  {
   "cell_type": "markdown",
   "id": "20f0dc02",
   "metadata": {
    "papermill": {
     "duration": 0.048027,
     "end_time": "2023-12-07T15:56:12.038285",
     "exception": false,
     "start_time": "2023-12-07T15:56:11.990258",
     "status": "completed"
    },
    "tags": []
   },
   "source": [
    "Dropping the 'Yes' dummies column due to very high vif scores"
   ]
  },
  {
   "cell_type": "code",
   "execution_count": 64,
   "id": "05576b41",
   "metadata": {
    "execution": {
     "iopub.execute_input": "2023-12-07T15:56:12.119494Z",
     "iopub.status.busy": "2023-12-07T15:56:12.119024Z",
     "iopub.status.idle": "2023-12-07T15:56:12.126685Z",
     "shell.execute_reply": "2023-12-07T15:56:12.125050Z"
    },
    "papermill": {
     "duration": 0.051771,
     "end_time": "2023-12-07T15:56:12.129397",
     "exception": false,
     "start_time": "2023-12-07T15:56:12.077626",
     "status": "completed"
    },
    "tags": []
   },
   "outputs": [],
   "source": [
    "X_train_new = X_train_new.drop([\"yes\"], axis = 1)"
   ]
  },
  {
   "cell_type": "markdown",
   "id": "3c430ee7",
   "metadata": {
    "papermill": {
     "duration": 0.039338,
     "end_time": "2023-12-07T15:56:12.207449",
     "exception": false,
     "start_time": "2023-12-07T15:56:12.168111",
     "status": "completed"
    },
    "tags": []
   },
   "source": [
    "Model 3"
   ]
  },
  {
   "cell_type": "code",
   "execution_count": 65,
   "id": "430cdfa2",
   "metadata": {
    "execution": {
     "iopub.execute_input": "2023-12-07T15:56:12.288950Z",
     "iopub.status.busy": "2023-12-07T15:56:12.288522Z",
     "iopub.status.idle": "2023-12-07T15:56:12.314131Z",
     "shell.execute_reply": "2023-12-07T15:56:12.312248Z"
    },
    "papermill": {
     "duration": 0.070202,
     "end_time": "2023-12-07T15:56:12.316849",
     "exception": false,
     "start_time": "2023-12-07T15:56:12.246647",
     "status": "completed"
    },
    "tags": []
   },
   "outputs": [
    {
     "name": "stdout",
     "output_type": "stream",
     "text": [
      "                            OLS Regression Results                            \n",
      "==============================================================================\n",
      "Dep. Variable:                  price   R-squared:                       0.549\n",
      "Model:                            OLS   Adj. R-squared:                  0.544\n",
      "Method:                 Least Squares   F-statistic:                     122.6\n",
      "Date:                Sun, 30 Mar 2025   Prob (F-statistic):           2.50e-68\n",
      "Time:                        18:43:36   Log-Likelihood:                 339.28\n",
      "No. Observations:                 408   AIC:                            -668.6\n",
      "Df Residuals:                     403   BIC:                            -648.5\n",
      "Df Model:                           4                                         \n",
      "Covariance Type:            nonrobust                                         \n",
      "==============================================================================\n",
      "                 coef    std err          t      P>|t|      [0.025      0.975]\n",
      "------------------------------------------------------------------------------\n",
      "const          0.0720      0.011      6.657      0.000       0.051       0.093\n",
      "area           0.3243      0.031     10.508      0.000       0.264       0.385\n",
      "bathrooms      0.2366      0.024      9.956      0.000       0.190       0.283\n",
      "stories        0.1460      0.019      7.729      0.000       0.109       0.183\n",
      "parking        0.0867      0.020      4.330      0.000       0.047       0.126\n",
      "==============================================================================\n",
      "Omnibus:                       63.597   Durbin-Watson:                   2.145\n",
      "Prob(Omnibus):                  0.000   Jarque-Bera (JB):              163.482\n",
      "Skew:                           0.763   Prob(JB):                     3.16e-36\n",
      "Kurtosis:                       5.700   Cond. No.                         6.98\n",
      "==============================================================================\n",
      "\n",
      "Notes:\n",
      "[1] Standard Errors assume that the covariance matrix of the errors is correctly specified.\n"
     ]
    }
   ],
   "source": [
    "X_train_new = build_model(X_train_new,y_train)"
   ]
  },
  {
   "cell_type": "code",
   "execution_count": 66,
   "id": "c4a1c251",
   "metadata": {
    "execution": {
     "iopub.execute_input": "2023-12-07T15:56:12.398775Z",
     "iopub.status.busy": "2023-12-07T15:56:12.398334Z",
     "iopub.status.idle": "2023-12-07T15:56:12.417785Z",
     "shell.execute_reply": "2023-12-07T15:56:12.416397Z"
    },
    "papermill": {
     "duration": 0.064396,
     "end_time": "2023-12-07T15:56:12.420613",
     "exception": false,
     "start_time": "2023-12-07T15:56:12.356217",
     "status": "completed"
    },
    "tags": []
   },
   "outputs": [
    {
     "data": {
      "text/html": [
       "<div>\n",
       "<style scoped>\n",
       "    .dataframe tbody tr th:only-of-type {\n",
       "        vertical-align: middle;\n",
       "    }\n",
       "\n",
       "    .dataframe tbody tr th {\n",
       "        vertical-align: top;\n",
       "    }\n",
       "\n",
       "    .dataframe thead th {\n",
       "        text-align: right;\n",
       "    }\n",
       "</style>\n",
       "<table border=\"1\" class=\"dataframe\">\n",
       "  <thead>\n",
       "    <tr style=\"text-align: right;\">\n",
       "      <th></th>\n",
       "      <th>Features</th>\n",
       "      <th>VIF</th>\n",
       "    </tr>\n",
       "  </thead>\n",
       "  <tbody>\n",
       "    <tr>\n",
       "      <th>0</th>\n",
       "      <td>const</td>\n",
       "      <td>4.25</td>\n",
       "    </tr>\n",
       "    <tr>\n",
       "      <th>1</th>\n",
       "      <td>area</td>\n",
       "      <td>1.18</td>\n",
       "    </tr>\n",
       "    <tr>\n",
       "      <th>4</th>\n",
       "      <td>parking</td>\n",
       "      <td>1.17</td>\n",
       "    </tr>\n",
       "    <tr>\n",
       "      <th>2</th>\n",
       "      <td>bathrooms</td>\n",
       "      <td>1.14</td>\n",
       "    </tr>\n",
       "    <tr>\n",
       "      <th>3</th>\n",
       "      <td>stories</td>\n",
       "      <td>1.11</td>\n",
       "    </tr>\n",
       "  </tbody>\n",
       "</table>\n",
       "</div>"
      ],
      "text/plain": [
       "    Features   VIF\n",
       "0      const  4.25\n",
       "1       area  1.18\n",
       "4    parking  1.17\n",
       "2  bathrooms  1.14\n",
       "3    stories  1.11"
      ]
     },
     "execution_count": 66,
     "metadata": {},
     "output_type": "execute_result"
    }
   ],
   "source": [
    "#Calculating the Variance Inflation Factor\n",
    "checkVIF(X_train_new)"
   ]
  },
  {
   "cell_type": "markdown",
   "id": "45be4864",
   "metadata": {
    "papermill": {
     "duration": 0.039441,
     "end_time": "2023-12-07T15:56:12.500750",
     "exception": false,
     "start_time": "2023-12-07T15:56:12.461309",
     "status": "completed"
    },
    "tags": []
   },
   "source": [
    "Model is ready lets verify the model through Residual Analysis"
   ]
  },
  {
   "cell_type": "code",
   "execution_count": 67,
   "id": "9cbe4ece",
   "metadata": {
    "execution": {
     "iopub.execute_input": "2023-12-07T15:56:12.582448Z",
     "iopub.status.busy": "2023-12-07T15:56:12.582001Z",
     "iopub.status.idle": "2023-12-07T15:56:12.588502Z",
     "shell.execute_reply": "2023-12-07T15:56:12.587489Z"
    },
    "papermill": {
     "duration": 0.05063,
     "end_time": "2023-12-07T15:56:12.590980",
     "exception": false,
     "start_time": "2023-12-07T15:56:12.540350",
     "status": "completed"
    },
    "tags": []
   },
   "outputs": [],
   "source": [
    "lm = sm.OLS(y_train,X_train_new).fit()\n",
    "\n",
    "y_train_price = lm.predict(X_train_new)"
   ]
  },
  {
   "cell_type": "markdown",
   "id": "cebe41f6",
   "metadata": {
    "papermill": {
     "duration": 0.04271,
     "end_time": "2023-12-07T15:56:12.674887",
     "exception": false,
     "start_time": "2023-12-07T15:56:12.632177",
     "status": "completed"
    },
    "tags": []
   },
   "source": [
    "![](https://www.investopedia.com/thmb/huV5SWrTX413a8tUUYI9igEDYMM=/750x0/filters:no_upscale():max_bytes(150000):strip_icc()/ErrorTerm-FINAL-4d315aae597e449da2689c8d5e363300.png)"
   ]
  },
  {
   "cell_type": "code",
   "execution_count": 44,
   "id": "5692da9a",
   "metadata": {
    "execution": {
     "iopub.execute_input": "2023-12-07T15:56:12.758418Z",
     "iopub.status.busy": "2023-12-07T15:56:12.757482Z",
     "iopub.status.idle": "2023-12-07T15:56:13.185007Z",
     "shell.execute_reply": "2023-12-07T15:56:13.183495Z"
    },
    "papermill": {
     "duration": 0.473838,
     "end_time": "2023-12-07T15:56:13.188116",
     "exception": false,
     "start_time": "2023-12-07T15:56:12.714278",
     "status": "completed"
    },
    "tags": []
   },
   "outputs": [
    {
     "data": {
      "text/plain": [
       "Text(0.5, 0, 'Errors')"
      ]
     },
     "execution_count": 44,
     "metadata": {},
     "output_type": "execute_result"
    },
    {
     "data": {
      "image/png": "[encoded data removed]",
      "text/plain": [
       "<Figure size 640x480 with 1 Axes>"
      ]
     },
     "metadata": {},
     "output_type": "display_data"
    }
   ],
   "source": [
    "# Plot the histogram of the error terms\n",
    "fig = plt.figure()\n",
    "sns.distplot((y_train - y_train_price), bins = 20)\n",
    "fig.suptitle('Error Terms', fontsize = 20)                 \n",
    "plt.xlabel('Errors', fontsize = 18)   "
   ]
  },
  {
   "cell_type": "markdown",
   "id": "26c01b56",
   "metadata": {
    "papermill": {
     "duration": 0.043042,
     "end_time": "2023-12-07T15:56:13.272757",
     "exception": false,
     "start_time": "2023-12-07T15:56:13.229715",
     "status": "completed"
    },
    "tags": []
   },
   "source": [
    "Error terms are approximately following a normal distribution. so we satisfy one assumption of linear regression"
   ]
  },
  {
   "cell_type": "markdown",
   "id": "3f9d1c84",
   "metadata": {
    "papermill": {
     "duration": 0.042157,
     "end_time": "2023-12-07T15:56:13.356912",
     "exception": false,
     "start_time": "2023-12-07T15:56:13.314755",
     "status": "completed"
    },
    "tags": []
   },
   "source": [
    "**Predicting on the Test set**"
   ]
  },
  {
   "cell_type": "code",
   "execution_count": 45,
   "id": "f8cbdb2f",
   "metadata": {
    "execution": {
     "iopub.execute_input": "2023-12-07T15:56:13.439586Z",
     "iopub.status.busy": "2023-12-07T15:56:13.438779Z",
     "iopub.status.idle": "2023-12-07T15:56:13.449900Z",
     "shell.execute_reply": "2023-12-07T15:56:13.448888Z"
    },
    "papermill": {
     "duration": 0.055878,
     "end_time": "2023-12-07T15:56:13.452610",
     "exception": false,
     "start_time": "2023-12-07T15:56:13.396732",
     "status": "completed"
    },
    "tags": []
   },
   "outputs": [],
   "source": [
    "# the test set numerical values scaled\n",
    "df_test[numerical_list] = scaler.fit_transform(df_test[numerical_list])"
   ]
  },
  {
   "cell_type": "code",
   "execution_count": 46,
   "id": "e9d13f4a",
   "metadata": {
    "execution": {
     "iopub.execute_input": "2023-12-07T15:56:13.535280Z",
     "iopub.status.busy": "2023-12-07T15:56:13.534486Z",
     "iopub.status.idle": "2023-12-07T15:56:13.540286Z",
     "shell.execute_reply": "2023-12-07T15:56:13.539302Z"
    },
    "papermill": {
     "duration": 0.050368,
     "end_time": "2023-12-07T15:56:13.542891",
     "exception": false,
     "start_time": "2023-12-07T15:56:13.492523",
     "status": "completed"
    },
    "tags": []
   },
   "outputs": [],
   "source": [
    "#Dividing into X and y\n",
    "y_test = df_test.pop('price')\n",
    "X_test = df_test"
   ]
  },
  {
   "cell_type": "code",
   "execution_count": 47,
   "id": "3a7cdf76",
   "metadata": {
    "execution": {
     "iopub.execute_input": "2023-12-07T15:56:13.626030Z",
     "iopub.status.busy": "2023-12-07T15:56:13.625240Z",
     "iopub.status.idle": "2023-12-07T15:56:13.636577Z",
     "shell.execute_reply": "2023-12-07T15:56:13.635514Z"
    },
    "papermill": {
     "duration": 0.055578,
     "end_time": "2023-12-07T15:56:13.639255",
     "exception": false,
     "start_time": "2023-12-07T15:56:13.583677",
     "status": "completed"
    },
    "tags": []
   },
   "outputs": [],
   "source": [
    "# selecting the choosen features from the train set to the test set\n",
    "X_train_new = X_train_new.drop('const',axis=1)\n",
    "# Creating X_test_new dataframe by dropping variables from X_test\n",
    "X_test_new = X_test[X_train_new.columns]\n",
    "\n",
    "# Adding a constant variable \n",
    "X_test_new = sm.add_constant(X_test_new)"
   ]
  },
  {
   "cell_type": "code",
   "execution_count": 48,
   "id": "f07ccccd",
   "metadata": {
    "execution": {
     "iopub.execute_input": "2023-12-07T15:56:13.723449Z",
     "iopub.status.busy": "2023-12-07T15:56:13.722465Z",
     "iopub.status.idle": "2023-12-07T15:56:13.728894Z",
     "shell.execute_reply": "2023-12-07T15:56:13.727975Z"
    },
    "papermill": {
     "duration": 0.05159,
     "end_time": "2023-12-07T15:56:13.731280",
     "exception": false,
     "start_time": "2023-12-07T15:56:13.679690",
     "status": "completed"
    },
    "tags": []
   },
   "outputs": [],
   "source": [
    "# Making predictions\n",
    "y_pred = lm.predict(X_test_new)"
   ]
  },
  {
   "cell_type": "code",
   "execution_count": 49,
   "id": "a0191e7a",
   "metadata": {
    "execution": {
     "iopub.execute_input": "2023-12-07T15:56:13.813769Z",
     "iopub.status.busy": "2023-12-07T15:56:13.813288Z",
     "iopub.status.idle": "2023-12-07T15:56:13.822180Z",
     "shell.execute_reply": "2023-12-07T15:56:13.821278Z"
    },
    "papermill": {
     "duration": 0.053165,
     "end_time": "2023-12-07T15:56:13.824739",
     "exception": false,
     "start_time": "2023-12-07T15:56:13.771574",
     "status": "completed"
    },
    "tags": []
   },
   "outputs": [
    {
     "data": {
      "text/plain": [
       "0.46127039829127103"
      ]
     },
     "execution_count": 49,
     "metadata": {},
     "output_type": "execute_result"
    }
   ],
   "source": [
    "from sklearn.metrics import r2_score \n",
    "r2_score(y_test, y_pred)"
   ]
  },
  {
   "cell_type": "code",
   "execution_count": 50,
   "id": "bdf294eb",
   "metadata": {
    "execution": {
     "iopub.execute_input": "2023-12-07T15:56:13.910431Z",
     "iopub.status.busy": "2023-12-07T15:56:13.909919Z",
     "iopub.status.idle": "2023-12-07T15:56:14.266511Z",
     "shell.execute_reply": "2023-12-07T15:56:14.264875Z"
    },
    "papermill": {
     "duration": 0.403895,
     "end_time": "2023-12-07T15:56:14.269725",
     "exception": false,
     "start_time": "2023-12-07T15:56:13.865830",
     "status": "completed"
    },
    "tags": []
   },
   "outputs": [
    {
     "data": {
      "text/plain": [
       "Text(0, 0.5, 'y_pred')"
      ]
     },
     "execution_count": 50,
     "metadata": {},
     "output_type": "execute_result"
    },
    {
     "data": {
      "image/png": "[encoded data removed]",
      "text/plain": [
       "<Figure size 640x480 with 1 Axes>"
      ]
     },
     "metadata": {},
     "output_type": "display_data"
    }
   ],
   "source": [
    "#EVALUATION OF THE MODEL\n",
    "fig = plt.figure()\n",
    "plt.scatter(y_test,y_pred)\n",
    "fig.suptitle('y_test vs y_pred', fontsize=20)              # Plot heading \n",
    "plt.xlabel('y_test', fontsize=18)                          # X-label\n",
    "plt.ylabel('y_pred', fontsize=16)   "
   ]
  },
  {
   "cell_type": "code",
   "execution_count": 51,
   "id": "883ade4e",
   "metadata": {
    "execution": {
     "iopub.execute_input": "2023-12-07T15:56:14.356280Z",
     "iopub.status.busy": "2023-12-07T15:56:14.355015Z",
     "iopub.status.idle": "2023-12-07T15:56:14.376264Z",
     "shell.execute_reply": "2023-12-07T15:56:14.374133Z"
    },
    "papermill": {
     "duration": 0.068302,
     "end_time": "2023-12-07T15:56:14.379354",
     "exception": false,
     "start_time": "2023-12-07T15:56:14.311052",
     "status": "completed"
    },
    "tags": []
   },
   "outputs": [
    {
     "name": "stdout",
     "output_type": "stream",
     "text": [
      "                            OLS Regression Results                            \n",
      "==============================================================================\n",
      "Dep. Variable:                  price   R-squared:                       0.549\n",
      "Model:                            OLS   Adj. R-squared:                  0.544\n",
      "Method:                 Least Squares   F-statistic:                     122.6\n",
      "Date:                Thu, 07 Dec 2023   Prob (F-statistic):           2.50e-68\n",
      "Time:                        15:56:14   Log-Likelihood:                 339.28\n",
      "No. Observations:                 408   AIC:                            -668.6\n",
      "Df Residuals:                     403   BIC:                            -648.5\n",
      "Df Model:                           4                                         \n",
      "Covariance Type:            nonrobust                                         \n",
      "==============================================================================\n",
      "                 coef    std err          t      P>|t|      [0.025      0.975]\n",
      "------------------------------------------------------------------------------\n",
      "const          0.0720      0.011      6.657      0.000       0.051       0.093\n",
      "area           0.3243      0.031     10.508      0.000       0.264       0.385\n",
      "bathrooms      0.2366      0.024      9.956      0.000       0.190       0.283\n",
      "stories        0.1460      0.019      7.729      0.000       0.109       0.183\n",
      "parking        0.0867      0.020      4.330      0.000       0.047       0.126\n",
      "==============================================================================\n",
      "Omnibus:                       63.597   Durbin-Watson:                   2.145\n",
      "Prob(Omnibus):                  0.000   Jarque-Bera (JB):              163.482\n",
      "Skew:                           0.763   Prob(JB):                     3.16e-36\n",
      "Kurtosis:                       5.700   Cond. No.                         6.98\n",
      "==============================================================================\n",
      "\n",
      "Notes:\n",
      "[1] Standard Errors assume that the covariance matrix of the errors is correctly specified.\n"
     ]
    }
   ],
   "source": [
    "print(lm.summary())"
   ]
  },
  {
   "cell_type": "markdown",
   "id": "51126c4d",
   "metadata": {
    "papermill": {
     "duration": 0.041374,
     "end_time": "2023-12-07T15:56:14.461719",
     "exception": false,
     "start_time": "2023-12-07T15:56:14.420345",
     "status": "completed"
    },
    "tags": []
   },
   "source": [
    "Inference :\n",
    "R-sqaured and Adjusted R-squared (extent of fit) - 0.549 and 0.544 - 54% variance explained.\n",
    "p-values - p-values for all the coefficients seem to be less than the significance level of 0.05. - meaning that all the predictors are statistically significant."
   ]
  },
  {
   "cell_type": "code",
   "execution_count": null,
   "id": "dcdee881",
   "metadata": {
    "papermill": {
     "duration": 0.041027,
     "end_time": "2023-12-07T15:56:14.544356",
     "exception": false,
     "start_time": "2023-12-07T15:56:14.503329",
     "status": "completed"
    },
    "tags": []
   },
   "outputs": [],
   "source": []
  }
 ],
 "metadata": {
  "kaggle": {
   "accelerator": "none",
   "dataSources": [
    {
     "datasetId": 1859421,
     "sourceId": 3036086,
     "sourceType": "datasetVersion"
    }
   ],
   "dockerImageVersionId": 30558,
   "isGpuEnabled": false,
   "isInternetEnabled": true,
   "language": "python",
   "sourceType": "notebook"
  },
  "kernelspec": {
   "display_name": "base",
   "language": "python",
   "name": "python3"
  },
  "language_info": {
   "codemirror_mode": {
    "name": "ipython",
    "version": 3
   },
   "file_extension": ".py",
   "mimetype": "text/x-python",
   "name": "python",
   "nbconvert_exporter": "python",
   "pygments_lexer": "ipython3",
   "version": "3.12.3"
  },
  "papermill": {
   "default_parameters": {},
   "duration": 39.859882,
   "end_time": "2023-12-07T15:56:15.911928",
   "environment_variables": {},
   "exception": null,
   "input_path": "__notebook__.ipynb",
   "output_path": "__notebook__.ipynb",
   "parameters": {},
   "start_time": "2023-12-07T15:55:36.052046",
   "version": "2.4.0"
  }
 },
 "nbformat": 4,
 "nbformat_minor": 5
}
